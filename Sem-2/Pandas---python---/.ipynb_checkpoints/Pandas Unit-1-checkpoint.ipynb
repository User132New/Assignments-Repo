{
 "cells": [
  {
   "cell_type": "markdown",
   "id": "f70243cd",
   "metadata": {},
   "source": [
    "# Import cool stuff."
   ]
  },
  {
   "cell_type": "code",
   "execution_count": 97,
   "id": "1b502a47",
   "metadata": {},
   "outputs": [],
   "source": [
    "import pandas as pd\n",
    "import numpy as np\n",
    "\n",
    "# used for dates\n",
    "import datetime\n",
    "from datetime import date, datetime\n",
    "\n",
    "# Controls Pandas output format.\n",
    "pd.set_option('display.notebook_repr_html', False)  #display output as text, not HTML.\n",
    "pd.set_option('display.max_columns', 7)\n",
    "pd.set_option('display.max_rows', 5)\n",
    "pd.set_option('display.width', 120)\n",
    "\n",
    "# For graphs\n",
    "import matplotlib.pyplot as plt\n",
    "%matplotlib inline"
   ]
  },
  {
   "cell_type": "markdown",
   "id": "3509a961",
   "metadata": {},
   "source": [
    "# Do something with cool stuff."
   ]
  },
  {
   "cell_type": "code",
   "execution_count": 24,
   "id": "b4228168",
   "metadata": {},
   "outputs": [
    {
     "name": "stdout",
     "output_type": "stream",
     "text": [
      "five     5\n",
      "six      6\n",
      "seven    7\n",
      "eight    8\n",
      "dtype: int64\n",
      "\n",
      "six      6\n",
      "eight    8\n",
      "dtype: int64\n",
      "\n",
      "Index(['five', 'six', 'seven', 'eight'], dtype='object')\n",
      "\n",
      "seven    7\n",
      "five     5\n",
      "dtype: int64\n"
     ]
    }
   ],
   "source": [
    "#The pandas is the base data structure of pandas. A series is similar to a NumPy\n",
    "#array, but it differs by having an index, which allows for much richer lookup of items\n",
    "#instead of just a zero-based array index value\n",
    "\n",
    "#Have Index at data type: object and as well as numbers from 0.\n",
    "s = pd.Series([5,6,7,8], index = ['five',\"six\",\"seven\",\"eight\"]) #Keyword \"Series is Case-Sensitive\"\n",
    "print(s)\n",
    "print() # for spacing, ignore!!!\n",
    "print(s[['six',\"eight\"]]) #Access using pandas index which is Case-Sensitive i.e, Eight!=eight \n",
    "print()\n",
    "print(s.index)\n",
    "print()\n",
    "print(s[[2,0]]) #Access using normal index"
   ]
  },
  {
   "cell_type": "markdown",
   "id": "4b2f0fb3",
   "metadata": {},
   "source": [
    "# Do something useful with Series stuff."
   ]
  },
  {
   "cell_type": "code",
   "execution_count": 61,
   "id": "265c9456",
   "metadata": {},
   "outputs": [
    {
     "name": "stdout",
     "output_type": "stream",
     "text": [
      "DatetimeIndex(['2020-04-04', '2020-04-05', '2020-04-06'], dtype='datetime64[ns]', freq='D')\n",
      "\n",
      "\n",
      "2020-04-04    35\n",
      "2020-04-05    40\n",
      "2020-04-06    30\n",
      "Freq: D, dtype: int64\n",
      "\n",
      "2020-04-04    20\n",
      "2020-04-05    30\n",
      "2020-04-06    26\n",
      "Freq: D, dtype: int64\n",
      "\n",
      "2020-04-04    15\n",
      "2020-04-05    10\n",
      "2020-04-06     4\n",
      "Freq: D, dtype: int64\n",
      "\n",
      "40\n"
     ]
    }
   ],
   "source": [
    "dates = pd.date_range('2020-04-04', '2020-04-06') # created index for future use\n",
    "print(dates)\n",
    "print()\n",
    "temp1 = pd.Series([35,40,30], index = dates) #inde used here and below too!!!\n",
    "print()\n",
    "temp2 = pd.Series([20,30,26], index = dates)\n",
    "print(temp1)\n",
    "print()\n",
    "print(temp2)\n",
    "print()\n",
    "temp_diff = temp1-temp2\n",
    "print(temp_diff) #differnce in temp at two place, can be accessed\n",
    "#OR access temp for certain dates\n",
    "print()\n",
    "print(temp1['2020-04-05']) #As dates are index in pandas Series."
   ]
  },
  {
   "cell_type": "markdown",
   "id": "b25ee06e",
   "metadata": {},
   "source": [
    "# Date-Frame Stuff from Pandas cool stuff."
   ]
  },
  {
   "cell_type": "code",
   "execution_count": 68,
   "id": "3f4058fa",
   "metadata": {},
   "outputs": [
    {
     "name": "stdout",
     "output_type": "stream",
     "text": [
      "2020-04-04    15\n",
      "2020-04-05    10\n",
      "2020-04-06     4\n",
      "Freq: D, dtype: int64\n",
      "            Delhi  NYC  Del-NYC\n",
      "2020-04-04     35   20       15\n",
      "2020-04-05     40   30       10\n",
      "2020-04-06     30   26        4\n",
      "----------------------------------------------------\n",
      "Index(['Delhi', 'NYC', 'Del-NYC'], dtype='object')\n",
      "\n",
      "2020-04-04    20\n",
      "2020-04-05    30\n",
      "2020-04-06    26\n",
      "Freq: D, Name: NYC, dtype: int64\n"
     ]
    }
   ],
   "source": [
    "# A pandas can only have a single value associated with each index label. To have\n",
    "# multiple values per index label we can use a data frame. A data frame represents one or\n",
    "# more objects aligned by index label. Each series will be a column in the data frame,\n",
    "# and each column can have an associated name.\n",
    "\n",
    "# --- Basically like a table from database ---\n",
    "# --- We can Assign Column name too ---\n",
    "\n",
    "############------DataFrame---Case-sensitice___############\n",
    "print(temp_diff)\n",
    "temp_diff_new = pd.DataFrame({'Delhi':temp1,'NYC':temp2,'Del-NYC':temp1-temp2}) # ---Two places can be named too! ---\n",
    "print(temp_diff_new)\n",
    "print(\"----------------------------------------------------\")\n",
    "\n",
    "# Retrieve through property syntax\n",
    "print(temp_diff_new.columns)\n",
    "print()\n",
    "print(temp_diff_new.NYC)"
   ]
  },
  {
   "cell_type": "markdown",
   "id": "22cfcfff",
   "metadata": {},
   "source": [
    "# Accessing Rows in data"
   ]
  },
  {
   "cell_type": "code",
   "execution_count": 75,
   "id": "39f87ee6",
   "metadata": {},
   "outputs": [
    {
     "name": "stdout",
     "output_type": "stream",
     "text": [
      "Delhi      40\n",
      "NYC        30\n",
      "Del-NYC    10\n",
      "Name: 2020-04-05 00:00:00, dtype: int64\n",
      "Delhi      40\n",
      "NYC        30\n",
      "Del-NYC    10\n",
      "Name: 2020-04-05 00:00:00, dtype: int64\n",
      "--- Other Access method already studied, Refer Sem-1 ---\n"
     ]
    }
   ],
   "source": [
    "# Entire rows from a data frame can be retrieved using the .loc and .iloc properties. .loc\n",
    "# ensures that the lookup is by index label, where .iloc uses the 0-based position. -\n",
    "\n",
    "# --------  retrieves the second row ----------------\n",
    "print(temp_diff_new.iloc[1]) # .iloc - Show Row using default index\n",
    "print(temp_diff_new.loc['2020-04-05']) # .loc - Show Row using named index\n",
    "\n",
    "print('--- Other Access method already studied, Refer Sem-1 ---')"
   ]
  },
  {
   "cell_type": "markdown",
   "id": "763465d6",
   "metadata": {},
   "source": [
    "#  Stuff that reads stuff --- csv file using panda"
   ]
  },
  {
   "cell_type": "code",
   "execution_count": 124,
   "id": "4c6de2ed",
   "metadata": {},
   "outputs": [
    {
     "name": "stdout",
     "output_type": "stream",
     "text": [
      "Date,Name,Price,Available---------------------------------------------------\n",
      "---------------------------------------------------\n",
      "\n",
      "2024/04/14,Apple iPhone 13,1099.99,True\n",
      "2024/04/15,Samsung Galaxy S22 Ultra,1249.99,False\n",
      "2024/04/16,Amazon Echo Dot (4th Gen),39.99,True\n",
      "2024/04/17,Logitech MX Master 3,99.99,True\n",
      "2024/04/18,Microsoft Surface Pro 8,1299.99,False\n",
      "2024/04/19,Sony PlayStation 5,499.99,True\n",
      "2024/04/20,Bose QuietComfort 45,329.99,False\n",
      "2024/04/21,Nintendo Switch OLED,349.99,True\n",
      "2024/04/22,Google Pixel 7,799.99,True\n",
      "2024/04/23,Dyson V15 Detect,699.99,False\n",
      "                                Name    Price  Available\n",
      "Date                                                    \n",
      "2024-04-14           Apple iPhone 13  1099.99       True\n",
      "2024-04-15  Samsung Galaxy S22 Ultra  1249.99      False\n",
      "...                              ...      ...        ...\n",
      "2024-04-22            Google Pixel 7   799.99       True\n",
      "2024-04-23          Dyson V15 Detect   699.99      False\n",
      "\n",
      "[10 rows x 3 columns]\n",
      "---------------------------------------------------------------------------------------------------------\n",
      "DatetimeIndex(['2024-04-14', '2024-04-15', '2024-04-16', '2024-04-17', '2024-04-18', '2024-04-19', '2024-04-20',\n",
      "               '2024-04-21', '2024-04-22', '2024-04-23'],\n",
      "              dtype='datetime64[ns]', name='Date', freq=None)\n",
      "---------------------------------------------------------------\n",
      "Name         Samsung Galaxy S22 Ultra\n",
      "Price                         1249.99\n",
      "Available                       False\n",
      "Name: 2024-04-15 00:00:00, dtype: object\n",
      "---------------------------------------------------\n",
      "Name         Sony PlayStation 5\n",
      "Price                    499.99\n",
      "Available                  True\n",
      "Name: 2024-04-19 00:00:00, dtype: object\n"
     ]
    }
   ],
   "source": [
    "!type data.csv\n",
    "print(\"---------------------------------------------------\")\n",
    "print(\"---------------------------------------------------\")\n",
    "df = pd.read_csv('C:\\\\Users\\\\ssrit\\\\Jupyter notebook sem 2\\\\data.csv', parse_dates=['Date'], index_col = 'Date')\n",
    "print(df)\n",
    "print(\"---------------------------------------------------------------------------------------------------------\")\n",
    "print(df.index)\n",
    "print(\"---------------------------------------------------------------\")\n",
    "print(df.iloc[1])\n",
    "print(\"---------------------------------------------------\")\n",
    "print(df.loc['2024-04-19'])"
   ]
  },
  {
   "cell_type": "markdown",
   "id": "7797d500",
   "metadata": {},
   "source": [
    "# Unit last part Stuff!!"
   ]
  },
  {
   "cell_type": "markdown",
   "id": "aa1e2f20",
   "metadata": {},
   "source": [
    "# Representing Univariate data with the series"
   ]
  },
  {
   "cell_type": "code",
   "execution_count": 133,
   "id": "c32063e4",
   "metadata": {},
   "outputs": [
    {
     "name": "stdout",
     "output_type": "stream",
     "text": [
      "0    a\n",
      "1    b\n",
      "2    c\n",
      "3    d\n",
      "4    e\n",
      "dtype: object\n",
      "---------------------------------------------------\n",
      "0    7\n",
      "1    7\n",
      "dtype: int64\n",
      "---------------------------------------------------\n",
      "Father      Dad\n",
      "Mother      Mom\n",
      "Son       Child\n",
      "dtype: object\n",
      "---------------------------------------------------\n"
     ]
    }
   ],
   "source": [
    "# Some cool new stuff\n",
    "e = pd.Series(list('abcde'))\n",
    "print(e)\n",
    "print(\"---------------------------------------------------\")\n",
    "f = pd.Series([7]*2)\n",
    "print(f)\n",
    "print(\"---------------------------------------------------\")\n",
    "#Series from dictionary. Dict to be declared inside {} , not seperately.\n",
    "ser = pd.Series({'Father':'Dad', 'Mother':'Mom', 'Son':'Child'})\n",
    "print(ser)\n",
    "print(\"---------------------------------------------------\")"
   ]
  },
  {
   "cell_type": "code",
   "execution_count": 135,
   "id": "afc09ca3",
   "metadata": {},
   "outputs": [
    {
     "data": {
      "text/plain": [
       "0    4\n",
       "1    5\n",
       "2    6\n",
       "3    7\n",
       "dtype: int32"
      ]
     },
     "execution_count": 135,
     "metadata": {},
     "output_type": "execute_result"
    }
   ],
   "source": [
    "pd.Series(np.arange(4,8))"
   ]
  },
  {
   "cell_type": "code",
   "execution_count": 137,
   "id": "8a1e1b70",
   "metadata": {},
   "outputs": [
    {
     "data": {
      "text/plain": [
       "0     0.0\n",
       "1     2.5\n",
       "2     5.0\n",
       "3     7.5\n",
       "4    10.0\n",
       "dtype: float64"
      ]
     },
     "execution_count": 137,
     "metadata": {},
     "output_type": "execute_result"
    }
   ],
   "source": [
    "pd.Series(np.linspace(0,10,5))"
   ]
  },
  {
   "cell_type": "code",
   "execution_count": 176,
   "id": "e4838d3b",
   "metadata": {},
   "outputs": [
    {
     "data": {
      "text/plain": [
       "0   -0.204708\n",
       "1    0.478943\n",
       "2   -0.519439\n",
       "3   -0.555730\n",
       "4    1.965781\n",
       "dtype: float64"
      ]
     },
     "execution_count": 176,
     "metadata": {},
     "output_type": "execute_result"
    }
   ],
   "source": [
    "# from random numbers\n",
    "np.random.seed(12345) #For keep random number always constant.\n",
    "p = pd.Series(np.random.normal(size=5))\n",
    "p"
   ]
  },
  {
   "cell_type": "markdown",
   "id": "4eb9eb07",
   "metadata": {},
   "source": [
    "# Size shape of series"
   ]
  },
  {
   "cell_type": "code",
   "execution_count": 184,
   "id": "b39d3f2b",
   "metadata": {},
   "outputs": [
    {
     "name": "stdout",
     "output_type": "stream",
     "text": [
      "4\n",
      "4\n",
      "(4,)\n",
      "--- Tuple output for shape of series. ---\n"
     ]
    }
   ],
   "source": [
    "print(len(s))\n",
    "print(s.size)\n",
    "print(s.shape)\n",
    "print(\"--- Tuple output for shape of series. ---\")"
   ]
  },
  {
   "cell_type": "markdown",
   "id": "c4faf974",
   "metadata": {},
   "source": [
    "# Retrieving value in a series by label or position"
   ]
  },
  {
   "cell_type": "code",
   "execution_count": 189,
   "id": "3418e5bd",
   "metadata": {},
   "outputs": [
    {
     "name": "stdout",
     "output_type": "stream",
     "text": [
      "five     5\n",
      "six      6\n",
      "seven    7\n",
      "eight    8\n",
      "dtype: int64\n",
      "----------------\n",
      "6\n",
      "six      6\n",
      "eight    8\n",
      "dtype: int64\n",
      "-----------------\n",
      "7\n"
     ]
    }
   ],
   "source": [
    "# s.loc[] Used for label specfying of index.\n",
    "\n",
    "# s.iloc[] # Used for default Index.\n",
    "\n",
    "print(s)\n",
    "print('----------------')\n",
    "print(s.loc['six'])\n",
    "print(s.loc[['six',\"eight\"]])\n",
    "print('-----------------')\n",
    "print(s.iloc[2])"
   ]
  },
  {
   "cell_type": "markdown",
   "id": "d623ad11",
   "metadata": {},
   "source": [
    "# --- Enough Cool stuff for Today ---"
   ]
  }
 ],
 "metadata": {
  "kernelspec": {
   "display_name": "Python 3 (ipykernel)",
   "language": "python",
   "name": "python3"
  },
  "language_info": {
   "codemirror_mode": {
    "name": "ipython",
    "version": 3
   },
   "file_extension": ".py",
   "mimetype": "text/x-python",
   "name": "python",
   "nbconvert_exporter": "python",
   "pygments_lexer": "ipython3",
   "version": "3.11.4"
  }
 },
 "nbformat": 4,
 "nbformat_minor": 5
}
