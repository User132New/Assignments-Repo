{
 "cells": [
  {
   "cell_type": "markdown",
   "id": "731f4cd6",
   "metadata": {},
   "source": [
    "# Import stuff to do Cool Stuff."
   ]
  },
  {
   "cell_type": "code",
   "execution_count": 1,
   "id": "defa811c",
   "metadata": {},
   "outputs": [],
   "source": [
    "import pandas as pd\n",
    "import numpy as np\n",
    "\n",
    "# used for dates\n",
    "import datetime\n",
    "from datetime import date, datetime\n",
    "\n",
    "# Controls Pandas output format.\n",
    "pd.set_option('display.notebook_repr_html', False)  #display output as text, not HTML.\n",
    "pd.set_option('display.max_columns', 7)\n",
    "pd.set_option('display.max_rows', 5)\n",
    "pd.set_option('display.width', 120)\n",
    "\n",
    "# For graphs\n",
    "import matplotlib.pyplot as plt\n",
    "%matplotlib inline"
   ]
  },
  {
   "cell_type": "markdown",
   "id": "3ba8e4db",
   "metadata": {},
   "source": [
    "## Manipulating data frame structure"
   ]
  },
  {
   "cell_type": "code",
   "execution_count": 2,
   "id": "1341498a",
   "metadata": {},
   "outputs": [
    {
     "data": {
      "text/plain": [
       "   Tag        Date                      Name    Price  Available\n",
       "0  New  2024/04/14           Apple iPhone 13  1099.99       True\n",
       "1  Old  2024/04/15  Samsung Galaxy S22 Ultra  1249.99      False\n",
       "2  New  2024/04/22            Google Pixel 7   799.99       True"
      ]
     },
     "execution_count": 2,
     "metadata": {},
     "output_type": "execute_result"
    }
   ],
   "source": [
    "dd = pd.read_csv('sec.csv')\n",
    "dd"
   ]
  },
  {
   "cell_type": "markdown",
   "id": "55a5cadf",
   "metadata": {},
   "source": [
    "### Renaming columns"
   ]
  },
  {
   "cell_type": "code",
   "execution_count": 3,
   "id": "f84c599b",
   "metadata": {},
   "outputs": [
    {
     "name": "stdout",
     "output_type": "stream",
     "text": [
      "   Tag        Date                      Name    Price  Available\n",
      "0  New  2024/04/14           Apple iPhone 13  1099.99       True\n",
      "1  Old  2024/04/15  Samsung Galaxy S22 Ultra  1249.99      False\n",
      "2  New  2024/04/22            Google Pixel 7   799.99       True\n",
      "-----------------------------------------------------------------\n",
      "   Tag        Date                 PhoneName    Price  Available\n",
      "0  New  2024/04/14           Apple iPhone 13  1099.99       True\n",
      "1  Old  2024/04/15  Samsung Galaxy S22 Ultra  1249.99      False\n",
      "2  New  2024/04/22            Google Pixel 7   799.99       True\n",
      "-----------------------------------------------------------------\n"
     ]
    },
    {
     "data": {
      "text/plain": [
       "0             Apple iPhone 13\n",
       "1    Samsung Galaxy S22 Ultra\n",
       "2              Google Pixel 7\n",
       "Name: PhoneName, dtype: object"
      ]
     },
     "execution_count": 3,
     "metadata": {},
     "output_type": "execute_result"
    }
   ],
   "source": [
    "copy = dd.copy()\n",
    "print(copy)\n",
    "print('-----------------------------------------------------------------')\n",
    "# inplace=true to modify in same file\n",
    "copy.rename(columns = {\"Name\" : \"PhoneName\"}, inplace = True)\n",
    "print(copy)\n",
    "print('-----------------------------------------------------------------')\n",
    "copy.PhoneName"
   ]
  },
  {
   "cell_type": "markdown",
   "id": "6f9e41f6",
   "metadata": {},
   "source": [
    "### Adding new columns with [] and .insert()"
   ]
  },
  {
   "cell_type": "markdown",
   "id": "32cc34e7",
   "metadata": {},
   "source": [
    "### Four methods \n",
    "### 1.[index] = data\n",
    "### 2. name.insert(pos, column, data) \n",
    "### 3. Enlargement .loc[row,column]\n",
    "### 4. Concatenation of two DataFrames."
   ]
  },
  {
   "cell_type": "code",
   "execution_count": 4,
   "id": "54a84c68",
   "metadata": {},
   "outputs": [
    {
     "data": {
      "text/plain": [
       "   Tag        Date                      Name    Price  Available  RoundPrice\n",
       "0  New  2024/04/14           Apple iPhone 13  1099.99       True      1100.0\n",
       "1  Old  2024/04/15  Samsung Galaxy S22 Ultra  1249.99      False      1250.0\n",
       "2  New  2024/04/22            Google Pixel 7   799.99       True       800.0"
      ]
     },
     "execution_count": 4,
     "metadata": {},
     "output_type": "execute_result"
    }
   ],
   "source": [
    "copy2=dd.copy()\n",
    "roundoff = copy2.Price.round()\n",
    "copy2['RoundPrice'] = roundoff\n",
    "copy2"
   ]
  },
  {
   "cell_type": "code",
   "execution_count": 5,
   "id": "602f7ab1",
   "metadata": {},
   "outputs": [
    {
     "data": {
      "text/plain": [
       "   Tag        Date                      Name    Price  RoundPrice  Available\n",
       "0  New  2024/04/14           Apple iPhone 13  1099.99      1100.0       True\n",
       "1  Old  2024/04/15  Samsung Galaxy S22 Ultra  1249.99      1250.0      False\n",
       "2  New  2024/04/22            Google Pixel 7   799.99       800.0       True"
      ]
     },
     "execution_count": 5,
     "metadata": {},
     "output_type": "execute_result"
    }
   ],
   "source": [
    "# .insert() method can be used to add a new column at a specific location.\n",
    "copy3 = dd.copy()\n",
    "copy3.insert(4,'RoundPrice',roundoff)\n",
    "copy3"
   ]
  },
  {
   "cell_type": "code",
   "execution_count": 6,
   "id": "3fbdadda",
   "metadata": {},
   "outputs": [
    {
     "data": {
      "text/plain": [
       "   Tag        Date                      Name    Price  RoundPrice  Available  Sales\n",
       "0  New  2024/04/14           Apple iPhone 13  1099.99      1100.0       True      0\n",
       "1  Old  2024/04/15  Samsung Galaxy S22 Ultra  1249.99      1250.0      False      0\n",
       "2  New  2024/04/22            Google Pixel 7   799.99       800.0       True      0"
      ]
     },
     "execution_count": 6,
     "metadata": {},
     "output_type": "execute_result"
    }
   ],
   "source": [
    "# Adding columns through enlargement\n",
    "copy3.loc[: ,'Sales']=0\n",
    "copy3"
   ]
  },
  {
   "cell_type": "code",
   "execution_count": 7,
   "id": "5fce2066",
   "metadata": {},
   "outputs": [
    {
     "data": {
      "text/plain": [
       "   Tag        Date                      Name    Price  RoundPrice  Available  Sales\n",
       "0  New  2024/04/14           Apple iPhone 13  1099.99      1100.0       True      3\n",
       "1  Old  2024/04/15  Samsung Galaxy S22 Ultra  1249.99      1250.0      False      2\n",
       "2  New  2024/04/22            Google Pixel 7   799.99       800.0       True      3"
      ]
     },
     "execution_count": 7,
     "metadata": {},
     "output_type": "execute_result"
    }
   ],
   "source": [
    "# we can add data too!!!\n",
    "copy3.loc[[0,1,2],'Sales'] = [3,2,3]\n",
    "copy3"
   ]
  },
  {
   "cell_type": "code",
   "execution_count": 8,
   "id": "7d7e53fa",
   "metadata": {},
   "outputs": [
    {
     "name": "stdout",
     "output_type": "stream",
     "text": [
      "   RoundedPrice\n",
      "0        1100.0\n",
      "1        1250.0\n",
      "2         800.0\n",
      "--------------Now copy4 and copy5 are two different DataFrames-------------\n",
      "   Tag        Date                      Name    Price  Available  RoundedPrice\n",
      "0  New  2024/04/14           Apple iPhone 13  1099.99       True        1100.0\n",
      "1  Old  2024/04/15  Samsung Galaxy S22 Ultra  1249.99      False        1250.0\n",
      "2  New  2024/04/22            Google Pixel 7   799.99       True         800.0\n",
      "-----------Two column have same name, bot will be accessed.---------------\n"
     ]
    }
   ],
   "source": [
    "#Adding columns using concatenation(Original Unchnaged)\n",
    "### --- Joins two DF structure ---\n",
    "# pd.concat()---axis=0(row)---axis=1(col)---\n",
    "copy4 = dd.copy()\n",
    "copy5 = pd.DataFrame({'RoundedPrice' : roundoff})\n",
    "print(copy5)\n",
    "print('--------------Now copy4 and copy5 are two different DataFrames-------------')\n",
    "print(pd.concat([copy4, copy5], axis =1))\n",
    "print('-----------Two column have same name, both will be accessed.---------------')"
   ]
  },
  {
   "cell_type": "markdown",
   "id": "cf07c77f",
   "metadata": {},
   "source": [
    "### Replacing the contents of a column"
   ]
  },
  {
   "cell_type": "code",
   "execution_count": 9,
   "id": "30c6eb65",
   "metadata": {},
   "outputs": [
    {
     "name": "stdout",
     "output_type": "stream",
     "text": [
      "   Tag        Date                      Name    Price  Available\n",
      "0  New  2024/04/14           Apple iPhone 13  1099.99       True\n",
      "1  Old  2024/04/15  Samsung Galaxy S22 Ultra  1249.99      False\n",
      "2  New  2024/04/22            Google Pixel 7   799.99       True\n",
      "---------------------------------------------------------------------------------\n",
      "   Tag        Date                      Name   Price  Available\n",
      "0  New  2024/04/14           Apple iPhone 13  1100.0       True\n",
      "1  Old  2024/04/15  Samsung Galaxy S22 Ultra  1250.0      False\n",
      "2  New  2024/04/22            Google Pixel 7   800.0       True\n",
      "---------------------------------------------------------------------------------\n",
      "this is copy7 =\n",
      "    Tag        Date                      Name  Price  Available\n",
      "0  New  2024/04/14           Apple iPhone 13   1100       True\n",
      "1  Old  2024/04/15  Samsung Galaxy S22 Ultra   1250      False\n",
      "2  New  2024/04/22            Google Pixel 7    800       True\n"
     ]
    },
    {
     "name": "stderr",
     "output_type": "stream",
     "text": [
      "C:\\Users\\ssrit\\AppData\\Local\\Temp\\ipykernel_14060\\2152868974.py:8: DeprecationWarning: In a future version, `df.iloc[:, i] = newvals` will attempt to set the values inplace instead of always setting a new array. To retain the old behavior, use either `df[df.columns[i]] = newvals` or, if columns are non-unique, `df.isetitem(i, newvals)`\n",
      "  copy7.loc[:,'Price'] = [1100,1250,800]\n"
     ]
    }
   ],
   "source": [
    "copy6 = dd.copy()\n",
    "copy7 = dd.copy()\n",
    "print(copy6)\n",
    "print('---------------------------------------------------------------------------------')\n",
    "copy6['Price'] = roundoff #OR copy6.Price = ---\n",
    "print(copy6)\n",
    "print('---------------------------------------------------------------------------------')\n",
    "copy7.loc[:,'Price'] = [1100,1250,800]\n",
    "print('this is copy7 =\\n',copy7)"
   ]
  },
  {
   "cell_type": "markdown",
   "id": "e4cb0d77",
   "metadata": {},
   "source": [
    "### Deleting Column      --- Some Cool stuff may not be SO cOoL.?---"
   ]
  },
  {
   "cell_type": "markdown",
   "id": "181a94d5",
   "metadata": {},
   "source": [
    "### 1. del method del name['col']\n",
    "### 2. name.pop('col')\n",
    "### 3. drop('name', axis = 0/1)"
   ]
  },
  {
   "cell_type": "code",
   "execution_count": 11,
   "id": "08a4f6cc",
   "metadata": {},
   "outputs": [
    {
     "name": "stdout",
     "output_type": "stream",
     "text": [
      "   Tag        Date                      Name    Price  RoundPrice  Available  Sales\n",
      "0  New  2024/04/14           Apple iPhone 13  1099.99      1100.0       True      3\n",
      "1  Old  2024/04/15  Samsung Galaxy S22 Ultra  1249.99      1250.0      False      2\n",
      "2  New  2024/04/22            Google Pixel 7   799.99       800.0       True      3\n",
      "------------------------------------------------------------------------------------------\n",
      "   Tag        Date                      Name  RoundPrice  Available  Sales\n",
      "0  New  2024/04/14           Apple iPhone 13      1100.0       True      3\n",
      "1  Old  2024/04/15  Samsung Galaxy S22 Ultra      1250.0      False      2\n",
      "2  New  2024/04/22            Google Pixel 7       800.0       True      3\n"
     ]
    }
   ],
   "source": [
    "# del method\n",
    "print(copy3)\n",
    "print('------------------------------------------------------------------------------------------')\n",
    "del copy3['Price']\n",
    "print(copy3)"
   ]
  },
  {
   "cell_type": "code",
   "execution_count": 14,
   "id": "b5552e6a",
   "metadata": {},
   "outputs": [
    {
     "name": "stdout",
     "output_type": "stream",
     "text": [
      "   Tag                      Name  RoundPrice  Available  Sales\n",
      "0  New           Apple iPhone 13      1100.0       True      3\n",
      "1  Old  Samsung Galaxy S22 Ultra      1250.0      False      2\n",
      "2  New            Google Pixel 7       800.0       True      3\n",
      "------------------------------------------------------------------------------------------\n",
      "0    2024/04/14\n",
      "1    2024/04/15\n",
      "2    2024/04/22\n",
      "Name: Date, dtype: object\n"
     ]
    }
   ],
   "source": [
    "# name.pop method - allows to check popped item.\n",
    "popped = copy3.pop('Date')\n",
    "print(copy3)\n",
    "print('------------------------------------------------------------------------------------------')\n",
    "print(popped)"
   ]
  },
  {
   "cell_type": "code",
   "execution_count": 27,
   "id": "e5d937c4",
   "metadata": {},
   "outputs": [
    {
     "data": {
      "text/plain": [
       "   Tag             Name  RoundPrice  Available  Sales\n",
       "0  New  Apple iPhone 13      1100.0       True      3\n",
       "2  New   Google Pixel 7       800.0       True      3"
      ]
     },
     "execution_count": 27,
     "metadata": {},
     "output_type": "execute_result"
    }
   ],
   "source": [
    "# drop() method can delete both ROW and COLUMN\n",
    "dropc = copy3.drop([1], axis = 0) #axis = 1 for column\n",
    "dropc #SAMSONG removed!"
   ]
  },
  {
   "cell_type": "markdown",
   "id": "ab9e813d",
   "metadata": {},
   "source": [
    "### Appending new rows"
   ]
  },
  {
   "cell_type": "markdown",
   "id": "eb1d184a",
   "metadata": {},
   "source": [
    "### 1. name.append(name2) ---Will be deprecated soon.---\n",
    "### 2. pd.concat([ items ]) --- As studied earlier ---"
   ]
  },
  {
   "cell_type": "code",
   "execution_count": 47,
   "id": "c1c1f34b",
   "metadata": {},
   "outputs": [
    {
     "name": "stdout",
     "output_type": "stream",
     "text": [
      "   Tag             Name  RoundPrice Available  Sales\n",
      "0  New  Redmi Turbo Max         250      True      0\n",
      "------------------------------------------------------------------------------------------\n",
      "   Tag             Name  RoundPrice Available  Sales\n",
      "0  New  Apple iPhone 13      1100.0      True      3\n",
      "2  New   Google Pixel 7       800.0      True      3\n",
      "0  New  Redmi Turbo Max       250.0      True      0\n",
      "--------------------------- both item with same index are displayed -----------------------\n",
      "   Tag             Name  RoundPrice Available  Sales\n",
      "0  New  Apple iPhone 13      1100.0      True      3\n",
      "0  New  Redmi Turbo Max       250.0      True      0\n"
     ]
    },
    {
     "name": "stderr",
     "output_type": "stream",
     "text": [
      "C:\\Users\\ssrit\\AppData\\Local\\Temp\\ipykernel_14060\\1179113976.py:10: FutureWarning: The frame.append method is deprecated and will be removed from pandas in a future version. Use pandas.concat instead.\n",
      "  added = dropc1.append(add, ignore_index = False) #true for default index.\n"
     ]
    }
   ],
   "source": [
    "dropc1 = dropc.copy()\n",
    "data = {'Tag': ['New'],\n",
    "        'Name': ['Redmi Turbo Max'],\n",
    "        'RoundPrice': [250],\n",
    "       'Available' : ['True'],\n",
    "        'Sales' : [0],}\n",
    "add = pd.DataFrame(data)\n",
    "print(add)\n",
    "print('------------------------------------------------------------------------------------------')\n",
    "added = dropc1.append(add, ignore_index = False) #true for default index.\n",
    "print(added)\n",
    "print('--------------------------- both item with same index are displayed -----------------------')\n",
    "print(added.loc[0])"
   ]
  },
  {
   "cell_type": "code",
   "execution_count": 52,
   "id": "fbe0e7f4",
   "metadata": {},
   "outputs": [
    {
     "name": "stdout",
     "output_type": "stream",
     "text": [
      "   Tag             Name  RoundPrice Available  Sales\n",
      "0  New  Redmi Turbo Max         250      True      0\n",
      "------------------------------------------------------------------------------------------\n",
      "         Tag             Name  RoundPrice Available  Sales\n",
      "dropc 0  New  Apple iPhone 13      1100.0      True      3\n",
      "      2  New   Google Pixel 7       800.0      True      3\n",
      "add   0  New  Redmi Turbo Max       250.0      True      0\n"
     ]
    }
   ],
   "source": [
    "item = {'Tag': ['New'],\n",
    "        'Name': ['Redmi Turbo Max'],\n",
    "        'RoundPrice': [250],\n",
    "       'Available' : ['True'],\n",
    "        'Sales' : [0],}\n",
    "add = pd.DataFrame(data) # change to DataFrame for concat\n",
    "print(add)\n",
    "print('------------------------------------------------------------------------------------------')\n",
    "concat = pd.concat([dropc, add], keys = ['dropc','add']) #keys used to know origination.\n",
    "print(concat)\n"
   ]
  },
  {
   "cell_type": "markdown",
   "id": "23c99c69",
   "metadata": {},
   "source": [
    "# Doing some other stuff, to change stuff into some other cool Stuff."
   ]
  },
  {
   "cell_type": "markdown",
   "id": "5d7cc444",
   "metadata": {},
   "source": [
    "## -----------------      2nd part Numerical and Statistical Method ---------------------------------"
   ]
  },
  {
   "cell_type": "markdown",
   "id": "538221ba",
   "metadata": {},
   "source": [
    "### Performing arithmetic on a data frame or series"
   ]
  },
  {
   "cell_type": "code",
   "execution_count": 56,
   "id": "f95436dc",
   "metadata": {},
   "outputs": [
    {
     "name": "stdout",
     "output_type": "stream",
     "text": [
      "Consider you read that file from local PC\n",
      "ik this isn't math, but I don't have that file either, so yeh!, make do!\n",
      "\n"
     ]
    }
   ],
   "source": [
    "##omh = pd.read_csv(\"data/sp500.csv\", index_col='Symbol',usecols=[0,2,3,7]) #\n",
    "#omh = pd.read_csv(\"data/omh.csv\")\n",
    "print('Consider you read that file from local PC')\n",
    "print(\"ik this isn't math, but I don't have that file either, so yeh!, make do!\\n\")\n"
   ]
  },
  {
   "cell_type": "code",
   "execution_count": 63,
   "id": "97e3be66",
   "metadata": {},
   "outputs": [
    {
     "data": {
      "text/plain": [
       "          A         B         C         D\n",
       "a  0.469112 -0.282863 -1.509059 -1.135632\n",
       "b  1.212112 -0.173215  0.119209 -1.044236\n",
       "c -0.861849 -2.104569 -0.494929  1.071804\n",
       "d  0.721555 -0.706771 -1.039575  0.271860\n",
       "e -0.424972  0.567020  0.276232 -1.087401"
      ]
     },
     "execution_count": 63,
     "metadata": {},
     "output_type": "execute_result"
    }
   ],
   "source": [
    "np.random.seed(123456)\n",
    "DD = pd.DataFrame(np.random.randn(5,4), columns = ['A','B','C','D'], index = ['a','b','c','d','e'])\n",
    "DD"
   ]
  },
  {
   "cell_type": "code",
   "execution_count": 64,
   "id": "33d45117",
   "metadata": {},
   "outputs": [
    {
     "data": {
      "text/plain": [
       "          A         B         C         D\n",
       "a  0.938225 -0.565727 -3.018117 -2.271265\n",
       "b  2.424224 -0.346429  0.238417 -2.088472\n",
       "c -1.723698 -4.209138 -0.989859  2.143608\n",
       "d  1.443110 -1.413542 -2.079150  0.543720\n",
       "e -0.849945  1.134041  0.552464 -2.174801"
      ]
     },
     "execution_count": 64,
     "metadata": {},
     "output_type": "execute_result"
    }
   ],
   "source": [
    "DD*2"
   ]
  },
  {
   "cell_type": "code",
   "execution_count": 66,
   "id": "b218b4e6",
   "metadata": {},
   "outputs": [
    {
     "name": "stdout",
     "output_type": "stream",
     "text": [
      "          A         B         C         D\n",
      "a  0.000000  0.000000  0.000000  0.000000\n",
      "b  0.743000  0.109649  1.628267  0.091396\n",
      "c -1.330961 -1.821706  1.014129  2.207436\n",
      "d  0.252443 -0.423908  0.469484  1.407492\n",
      "e -0.894085  0.849884  1.785291  0.048232\n",
      "------------------------------------------------------------------------------------------\n",
      "          A         B         C         D\n",
      "a  0.000000  0.000000  0.000000  0.000000\n",
      "b -0.743000 -0.109649 -1.628267 -0.091396\n",
      "c  1.330961  1.821706 -1.014129 -2.207436\n",
      "d -0.252443  0.423908 -0.469484 -1.407492\n",
      "e  0.894085 -0.849884 -1.785291 -0.048232\n"
     ]
    }
   ],
   "source": [
    "DD1 = DD.iloc[0]\n",
    "diff = DD - DD1\n",
    "print(diff)\n",
    "print('------------------------------------------------------------------------------------------')\n",
    "diffo = DD1 - DD\n",
    "print(diffo)"
   ]
  }
 ],
 "metadata": {
  "kernelspec": {
   "display_name": "Python 3 (ipykernel)",
   "language": "python",
   "name": "python3"
  },
  "language_info": {
   "codemirror_mode": {
    "name": "ipython",
    "version": 3
   },
   "file_extension": ".py",
   "mimetype": "text/x-python",
   "name": "python",
   "nbconvert_exporter": "python",
   "pygments_lexer": "ipython3",
   "version": "3.11.4"
  }
 },
 "nbformat": 4,
 "nbformat_minor": 5
}
