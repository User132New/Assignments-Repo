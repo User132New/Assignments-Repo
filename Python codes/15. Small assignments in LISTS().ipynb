{
 "cells": [
  {
   "cell_type": "markdown",
   "id": "16a73999",
   "metadata": {},
   "source": [
    "## Removing certain thing for infinite LIST."
   ]
  },
  {
   "cell_type": "code",
   "execution_count": 52,
   "id": "afdf2414",
   "metadata": {},
   "outputs": [
    {
     "ename": "AttributeError",
     "evalue": "'int' object has no attribute 'remove'",
     "output_type": "error",
     "traceback": [
      "\u001b[1;31m---------------------------------------------------------------------------\u001b[0m",
      "\u001b[1;31mAttributeError\u001b[0m                            Traceback (most recent call last)",
      "Cell \u001b[1;32mIn[52], line 3\u001b[0m\n\u001b[0;32m      1\u001b[0m \u001b[38;5;28mlist\u001b[39m\u001b[38;5;241m=\u001b[39m[\u001b[38;5;241m55\u001b[39m,\u001b[38;5;241m10\u001b[39m,\u001b[38;5;241m15\u001b[39m,\u001b[38;5;241m55\u001b[39m,\u001b[38;5;241m44\u001b[39m,\u001b[38;5;241m77\u001b[39m,\u001b[38;5;241m55\u001b[39m,\u001b[38;5;241m11\u001b[39m,\u001b[38;5;241m32\u001b[39m,\u001b[38;5;241m55\u001b[39m,\u001b[38;5;241m669\u001b[39m,\u001b[38;5;241m87\u001b[39m,\u001b[38;5;241m45\u001b[39m,\u001b[38;5;241m55\u001b[39m]\n\u001b[0;32m      2\u001b[0m \u001b[38;5;28;01mfor\u001b[39;00m item \u001b[38;5;129;01min\u001b[39;00m \u001b[38;5;28mlist\u001b[39m:\n\u001b[1;32m----> 3\u001b[0m     item\u001b[38;5;241m.\u001b[39mremove(\u001b[38;5;124m'\u001b[39m\u001b[38;5;124m55\u001b[39m\u001b[38;5;124m'\u001b[39m)\n\u001b[0;32m      4\u001b[0m \u001b[38;5;28mprint\u001b[39m(li)\n",
      "\u001b[1;31mAttributeError\u001b[0m: 'int' object has no attribute 'remove'"
     ]
    }
   ],
   "source": [
    "list=[55,10,15,55,44,77,55,11,32,55,669,87,45,55]\n",
    "for item in list:\n",
    "    item.remove('55')\n",
    "print(li)"
   ]
  },
  {
   "cell_type": "code",
   "execution_count": 16,
   "id": "63c6cb87",
   "metadata": {},
   "outputs": [
    {
     "name": "stdout",
     "output_type": "stream",
     "text": [
      "Please enter the item to remove : 55\n",
      "[10, 15, 44, 77, 11, 32, 669, 87, 45] \n",
      " 5 items were removed...\n"
     ]
    }
   ],
   "source": [
    "li=[55,10,15,55,44,77,55,11,32,55,669,87,45,55]\n",
    "ini=len(li)\n",
    "rm=int(input('Please enter the item to remove : '))  #Since list have string values.\n",
    "for item in li:\n",
    "    if (item==rm):\n",
    "        li.remove(item)\n",
    "fin=len(li)\n",
    "resultlen=ini-fin\n",
    "print(f'{li} \\n {resultlen} items were removed...')"
   ]
  },
  {
   "cell_type": "markdown",
   "id": "2e72d5e7",
   "metadata": {},
   "source": [
    "##"
   ]
  },
  {
   "cell_type": "code",
   "execution_count": 21,
   "id": "a01a4869",
   "metadata": {},
   "outputs": [
    {
     "name": "stdout",
     "output_type": "stream",
     "text": [
      "['Monkey', 'Bear', 'Cat', 'Pitbull Dog']\n"
     ]
    }
   ],
   "source": [
    "animals=['   Monkey   ','   Bear   ','   Cat   ','   Pitbull Dog   ']\n",
    "empli=[]\n",
    "for ind in range(0,len(animals)):\n",
    "    animals[ind]=animals[ind].strip()            #Explain and further study req.\n",
    "print(animals)"
   ]
  },
  {
   "cell_type": "markdown",
   "id": "bb7d1033",
   "metadata": {},
   "source": [
    "## Sum of square of every number in list"
   ]
  },
  {
   "cell_type": "code",
   "execution_count": 35,
   "id": "3258788c",
   "metadata": {},
   "outputs": [
    {
     "name": "stdout",
     "output_type": "stream",
     "text": [
      "Enter number of element in list : 15\n",
      "List is : [1, 2, 3, 4, 5, 6, 7, 8, 9, 10, 11, 12, 13, 14, 15]\n",
      "1240\n"
     ]
    }
   ],
   "source": [
    "num=int(input('Enter number of element in list : '))\n",
    "list=[]\n",
    "numb=0\n",
    "for i in range(1,num+1):\n",
    "    list.append(i)\n",
    "print(f'List is : {list}')\n",
    "for j in range(0,len(list)+1):             #+1 is req. here\n",
    "    numb=numb+(j**2)\n",
    "print(numb)"
   ]
  },
  {
   "cell_type": "markdown",
   "id": "04e9c8ef",
   "metadata": {},
   "source": [
    "## Sorting list of cities that have particular phase"
   ]
  },
  {
   "cell_type": "code",
   "execution_count": 44,
   "id": "6bb2a4c6",
   "metadata": {},
   "outputs": [
    {
     "name": "stdout",
     "output_type": "stream",
     "text": [
      "Enter partial or full city names to match : garh\n",
      "['Chandigarh', 'killagarh']\n",
      "number of matches 2\n"
     ]
    }
   ],
   "source": [
    "cities=['kanpur','Chandigarh','Rajpur','killagarh','jimi']\n",
    "list=[]\n",
    "to_find=input('Enter partial or full city names to match : ')\n",
    "for names in cities:\n",
    "    if to_find in names:\n",
    "       list.append(names)\n",
    "cities=list\n",
    "print(cities)\n",
    "print(f'number of matches {len(cities)}')"
   ]
  },
  {
   "cell_type": "code",
   "execution_count": null,
   "id": "a25ec0c7",
   "metadata": {},
   "outputs": [],
   "source": []
  },
  {
   "cell_type": "code",
   "execution_count": 46,
   "id": "7820c4cf",
   "metadata": {},
   "outputs": [
    {
     "name": "stdout",
     "output_type": "stream",
     "text": [
      "Enter partial or full city names to not show : pur\n",
      "['Chandigarh', 'killagarh', 'jimi']\n",
      "number of matches 3\n"
     ]
    }
   ],
   "source": [
    "cities=['kanpur','Chandigarh','Rajpur','killagarh','jimi']\n",
    "list=[]\n",
    "to_find=input('Enter partial or full city names to not show : ')\n",
    "for names in cities:\n",
    "    if to_find not in names:\n",
    "       list.append(names)\n",
    "cities=list\n",
    "print(cities)\n",
    "print(f'number of matches {len(cities)}')"
   ]
  },
  {
   "cell_type": "markdown",
   "id": "ca89adce",
   "metadata": {},
   "source": [
    "## Messy salary figure cleanup."
   ]
  },
  {
   "cell_type": "code",
   "execution_count": 3,
   "id": "b8e631db",
   "metadata": {},
   "outputs": [
    {
     "name": "stdout",
     "output_type": "stream",
     "text": [
      "['1545999', '1645777', '1512999', '1945997', '0543009']\n"
     ]
    }
   ],
   "source": [
    "salaries=['$15,45,999','$16,45777','$15,12,999','$19,45,997','$05,43,009']\n",
    "li=[]\n",
    "for item in salaries:\n",
    "    j=item.replace('$','')\n",
    "    k=j.replace(',','')\n",
    "    li.append(k)\n",
    "salaries=li\n",
    "print(salaries)"
   ]
  },
  {
   "cell_type": "markdown",
   "id": "ae536910",
   "metadata": {},
   "source": [
    "## Creating fruits list from user input until done is entered."
   ]
  },
  {
   "cell_type": "code",
   "execution_count": 4,
   "id": "9dbc67a2",
   "metadata": {},
   "outputs": [
    {
     "name": "stdout",
     "output_type": "stream",
     "text": [
      "Please enter the fruit name :Guaua\n",
      "Please enter the fruit name :Tomato\n",
      "Please enter the fruit name :Mango\n",
      "Please enter the fruit name :aPPle\n",
      "Please enter the fruit name :DonE\n",
      "['guaua', 'tomato', 'mango', 'apple']\n"
     ]
    }
   ],
   "source": [
    "fruits=[]\n",
    "fr=input('Please enter the fruit name :').lower()\n",
    "if (fr!='done'):\n",
    "    while(fr!='done'):\n",
    "        fruits.append(fr)\n",
    "        fr=input('Please enter the fruit name :').lower()\n",
    "else:\n",
    "    print('List entry completed')\n",
    "print(fruits)"
   ]
  },
  {
   "cell_type": "markdown",
   "id": "4ccd2276",
   "metadata": {},
   "source": [
    "## Set operations in lists."
   ]
  },
  {
   "cell_type": "code",
   "execution_count": 28,
   "id": "f264c9cc",
   "metadata": {},
   "outputs": [
    {
     "ename": "TypeError",
     "evalue": "'set' object is not callable",
     "output_type": "error",
     "traceback": [
      "\u001b[1;31m---------------------------------------------------------------------------\u001b[0m",
      "\u001b[1;31mTypeError\u001b[0m                                 Traceback (most recent call last)",
      "Cell \u001b[1;32mIn[28], line 5\u001b[0m\n\u001b[0;32m      3\u001b[0m developers\u001b[38;5;241m=\u001b[39m[\u001b[38;5;124m'\u001b[39m\u001b[38;5;124mSanket\u001b[39m\u001b[38;5;124m'\u001b[39m,\u001b[38;5;124m'\u001b[39m\u001b[38;5;124mSujeev\u001b[39m\u001b[38;5;124m'\u001b[39m,\u001b[38;5;124m'\u001b[39m\u001b[38;5;124mKavya\u001b[39m\u001b[38;5;124m'\u001b[39m]\n\u001b[0;32m      4\u001b[0m gydd \u001b[38;5;241m=\u001b[39m gym_members \u001b[38;5;241m+\u001b[39m developers\n\u001b[1;32m----> 5\u001b[0m c_set\u001b[38;5;241m=\u001b[39m\u001b[38;5;28mset\u001b[39m(gydd)\n\u001b[0;32m      6\u001b[0m \u001b[38;5;28mprint\u001b[39m(c_set)\n\u001b[0;32m      7\u001b[0m gyde\u001b[38;5;241m=\u001b[39m\u001b[38;5;28mlist\u001b[39m[c_set]\n",
      "\u001b[1;31mTypeError\u001b[0m: 'set' object is not callable"
     ]
    }
   ],
   "source": [
    "employee=['Sanket','Sujeev','Selva','Ansh','Mohandeep','Kavya']\n",
    "gym_members=['Ansh','Mohandeep','Kavya']\n",
    "developers=['Sanket','Sujeev','Kavya']\n",
    "gydd = gym_members + developers\n",
    "c_set=set(gydd)\n",
    "print(c_set)\n",
    "gyde=list[c_set]\n",
    "print(gyde)"
   ]
  },
  {
   "cell_type": "code",
   "execution_count": null,
   "id": "1b619b69",
   "metadata": {},
   "outputs": [],
   "source": []
  },
  {
   "cell_type": "code",
   "execution_count": 95,
   "id": "e8459642",
   "metadata": {},
   "outputs": [
    {
     "name": "stdout",
     "output_type": "stream",
     "text": [
      "[('Order Number', 'Net'), ('34587', 163.8), ('98762', 284.0), ('77226', 108.85000000000001)]\n",
      "\n",
      "('Order Number', 'Net')\n",
      "('34587', 163.8)\n",
      "('98762', 284.0)\n",
      "('77226', 108.85000000000001)\n",
      "\n",
      "The Grand Total for your Book Orders is 556.65 Rupees.\n"
     ]
    }
   ],
   "source": [
    "book_orders = [\n",
    "    ['Order Number','Book Title','Author','Quantity','Unit Price'],\n",
    "    ['34587','Python','Mark','4','40.95'],\n",
    "    ['98762','Prog. Python','Mark','5','56.80'],\n",
    "    ['77226','Head First Python','Paul','3','32.95']\n",
    "]\n",
    "li=[('Order Number','Net')]        #Empty list.\n",
    "Grand_Total=0\n",
    "for item in book_orders[1:]:       #To skip 1st row.\n",
    "    O_No=item[0]\n",
    "    Net=float(item[3])*float(item[4])\n",
    "    if (Net<100):                  #If net<100, price is\n",
    "        Net+=10                    #incemented by 10Rs.\n",
    "    li.append(tuple([O_No,Net]))\n",
    "    Grand_Total+=Net\n",
    "print(li)                          #form 1\n",
    "print()\n",
    "for rows in li:\n",
    "    print(rows)                    #form 2\n",
    "print()\n",
    "print(f'The Grand Total for your Book Orders is {Grand_Total} Rupees.')"
   ]
  }
 ],
 "metadata": {
  "kernelspec": {
   "display_name": "Python 3 (ipykernel)",
   "language": "python",
   "name": "python3"
  },
  "language_info": {
   "codemirror_mode": {
    "name": "ipython",
    "version": 3
   },
   "file_extension": ".py",
   "mimetype": "text/x-python",
   "name": "python",
   "nbconvert_exporter": "python",
   "pygments_lexer": "ipython3",
   "version": "3.11.4"
  }
 },
 "nbformat": 4,
 "nbformat_minor": 5
}
