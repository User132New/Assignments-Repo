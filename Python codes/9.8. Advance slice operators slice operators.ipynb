{
 "cells": [
  {
   "cell_type": "markdown",
   "id": "81af5db2",
   "metadata": {},
   "source": [
    "# Various slice operator."
   ]
  },
  {
   "cell_type": "markdown",
   "id": "0a10fe2a",
   "metadata": {},
   "source": [
    "## Advance slice Operator."
   ]
  },
  {
   "cell_type": "code",
   "execution_count": 13,
   "id": "2e1cfd01",
   "metadata": {},
   "outputs": [
    {
     "name": "stdout",
     "output_type": "stream",
     "text": [
      "36\n",
      "   today is not so interesting...    \n",
      " \n",
      "   today is not so interesting\n",
      "   today is not so interesting...   \n",
      "  oa snts  \n",
      " \n",
      "   ...gnitseretni os ton si yadot   \n",
      " .sn sd  \n",
      " \n",
      "\n",
      "..gnit \n",
      " \n",
      "   today is not so interesting...   \n",
      "   TODAY IS NOT SO INTERESTING...   \n",
      "   Today Is Not So Interesting...   \n",
      "================================   today is not so interesting...   ================================\n",
      "today is not so interesting...\n",
      "3 \n",
      " \n",
      "['today', 'is', 'not', 'so', 'interesting...']\n",
      "today_is_not_so_interesting... \n",
      " \n",
      "yesterday was not so interesting... \n",
      " \n",
      "n\n",
      "d \n",
      " \n",
      "jind is nice.\n"
     ]
    }
   ],
   "source": [
    "# [Start index ':' End index ':' Step in between.]\n",
    "ram='   today is not so interesting...   '\n",
    "print(len(ram))\n",
    "print(ram, end=\" \\n \\n\")\n",
    "\n",
    "#Positive index with forward step.\n",
    "print(ram[0:30:1])                #Can mention end and start point.\n",
    "print(ram[::1])                   #Not mention refers full range.\n",
    "print(ram[0:20:2], end=\" \\n \\n\")  #Can mention different range with different steps.\n",
    "\n",
    "#Positive index with backward step.\n",
    "print(ram[::-1])                  #Represent inverse of string, as step is -1.\n",
    "print(ram[::-5], end=\" \\n \\n\")    #Reverse can have different steps too.\n",
    "\n",
    "#Negative index with forward step.\n",
    "print(ram[-5:-11:1])\n",
    "\n",
    "#Negative index with backward step.\n",
    "print(ram[-5:-11:-1], end=\" \\n \\n\")\n",
    "\n",
    "\n",
    "print(ram.capitalize())           #Capitalize sentence beginning.\n",
    "print(ram.swapcase())             #swaps the case of characters.\n",
    "print(ram.title())                #1st character of word is uppercase.\n",
    "print(ram.center(100,'='))        #(length here, what to replace with.?)\n",
    "print(ram.strip())                #Removes from either side.\n",
    "print(ram.count('o'), end=\" \\n \\n\")\n",
    "\n",
    "ram1=ram.strip()                  #ram1 is stripped, no space either side.\n",
    "t,w,n,s,i=ram1.split(' ')         #Can be used to store single str with token.\n",
    "print([t,w,n,s,i])                #Also used to break a string in diff tokens.\n",
    "\n",
    "print('_'.join([t,w,n,s,i]), end=\" \\n \\n\")      \n",
    "                                  #Can be used to join/concatenate strings.\n",
    "print(ram1.replace('today is','yesterday was'), end=\" \\n \\n\")\n",
    "                                  #Use to change character with desired characters.\n",
    "ra,hul='jind',' is nice.'\n",
    "print(max(ra))\n",
    "print(min(ra), end=\" \\n \\n\")\n",
    "\n",
    "#Concatenation in strings.\n",
    "Rahul=ra+hul                      #Both strings are concatenated.\n",
    "print(Rahul)"
   ]
  },
  {
   "cell_type": "markdown",
   "id": "ea0c779a",
   "metadata": {},
   "source": [
    "## is.particular type.?"
   ]
  },
  {
   "cell_type": "code",
   "execution_count": 84,
   "id": "5d48ca8f",
   "metadata": {},
   "outputs": [
    {
     "name": "stdout",
     "output_type": "stream",
     "text": [
      "True\n",
      "True\n",
      "True\n"
     ]
    }
   ],
   "source": [
    "ra,ram2,ram3='jind','jind123','55'\n",
    "print(ra.isalpha())             #Check and gives bool output.\n",
    "print(ram2.isalnum())\n",
    "print(ram3.isdigit())\n"
   ]
  },
  {
   "cell_type": "markdown",
   "id": "57c75400",
   "metadata": {},
   "source": [
    "## Find() vs Index() op."
   ]
  },
  {
   "cell_type": "code",
   "execution_count": 95,
   "id": "91582e9f",
   "metadata": {},
   "outputs": [
    {
     "name": "stdout",
     "output_type": "stream",
     "text": [
      "7\n",
      "7\n",
      " \n",
      "-1\n"
     ]
    },
    {
     "ename": "ValueError",
     "evalue": "substring not found",
     "output_type": "error",
     "traceback": [
      "\u001b[1;31m---------------------------------------------------------------------------\u001b[0m",
      "\u001b[1;31mValueError\u001b[0m                                Traceback (most recent call last)",
      "Cell \u001b[1;32mIn[95], line 7\u001b[0m\n\u001b[0;32m      3\u001b[0m \u001b[38;5;28mprint\u001b[39m(a\u001b[38;5;241m.\u001b[39mindex(\u001b[38;5;124m\"\u001b[39m\u001b[38;5;124mthis\u001b[39m\u001b[38;5;124m\"\u001b[39m) ,end\u001b[38;5;241m=\u001b[39m\u001b[38;5;124m'\u001b[39m\u001b[38;5;130;01m\\n\u001b[39;00m\u001b[38;5;124m \u001b[39m\u001b[38;5;130;01m\\n\u001b[39;00m\u001b[38;5;124m'\u001b[39m)\n\u001b[0;32m      6\u001b[0m \u001b[38;5;28mprint\u001b[39m(a\u001b[38;5;241m.\u001b[39mfind(\u001b[38;5;124m\"\u001b[39m\u001b[38;5;124mThis\u001b[39m\u001b[38;5;124m\"\u001b[39m))\n\u001b[1;32m----> 7\u001b[0m \u001b[38;5;28mprint\u001b[39m(a\u001b[38;5;241m.\u001b[39mindex(\u001b[38;5;124m\"\u001b[39m\u001b[38;5;124mThis\u001b[39m\u001b[38;5;124m\"\u001b[39m))\n",
      "\u001b[1;31mValueError\u001b[0m: substring not found"
     ]
    }
   ],
   "source": [
    "a='End of this program'\n",
    "print(a.find(\"this\"))                        #Both same output, if match if found\n",
    "print(a.index(\"this\") ,end='\\n \\n')\n",
    "\n",
    "\n",
    "print(a.find(\"This\"))                        #Find shows -1 location,{non existant}\n",
    "print(a.index(\"This\"))                       #Index shows value error."
   ]
  },
  {
   "cell_type": "markdown",
   "id": "77f53a44",
   "metadata": {},
   "source": [
    "## In/Not in operator."
   ]
  },
  {
   "cell_type": "code",
   "execution_count": 103,
   "id": "8c6fb78c",
   "metadata": {},
   "outputs": [
    {
     "name": "stdout",
     "output_type": "stream",
     "text": [
      "True\n",
      "False\n",
      " \n",
      "True\n",
      "False\n"
     ]
    }
   ],
   "source": [
    "a='Now end of this program'\n",
    "print('of'in a)\n",
    "print('off'in a, end='\\n \\n')\n",
    "print('math' not in a)\n",
    "print('end' not in a)"
   ]
  },
  {
   "cell_type": "markdown",
   "id": "18f35bc3",
   "metadata": {},
   "source": [
    "## To check if id is referenced or new."
   ]
  },
  {
   "cell_type": "code",
   "execution_count": 22,
   "id": "9a1d826f",
   "metadata": {},
   "outputs": [
    {
     "name": "stdout",
     "output_type": "stream",
     "text": [
      "2218055388784 2218055388784\n",
      "2218055388784 2218055388784\n"
     ]
    }
   ],
   "source": [
    "str1='free'\n",
    "str2=str1\n",
    "print(id(str1), id(str2), end='\\n')\n",
    "\n",
    "str3=str1[:]\n",
    "print(id(str1), id(str3))"
   ]
  }
 ],
 "metadata": {
  "kernelspec": {
   "display_name": "Python 3 (ipykernel)",
   "language": "python",
   "name": "python3"
  },
  "language_info": {
   "codemirror_mode": {
    "name": "ipython",
    "version": 3
   },
   "file_extension": ".py",
   "mimetype": "text/x-python",
   "name": "python",
   "nbconvert_exporter": "python",
   "pygments_lexer": "ipython3",
   "version": "3.11.4"
  }
 },
 "nbformat": 4,
 "nbformat_minor": 5
}
