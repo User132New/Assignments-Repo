{
 "cells": [
  {
   "cell_type": "markdown",
   "id": "81af5db2",
   "metadata": {},
   "source": [
    "# Various slice operator."
   ]
  },
  {
   "cell_type": "markdown",
   "id": "0a10fe2a",
   "metadata": {},
   "source": [
    "## Advance slice Operator."
   ]
  },
  {
   "cell_type": "code",
   "execution_count": 85,
   "id": "2e1cfd01",
   "metadata": {},
   "outputs": [
    {
     "name": "stdout",
     "output_type": "stream",
     "text": [
      "   today is not so interesting...   \n",
      "   today is not so interesting...  \n",
      "   today is not so interesting...   \n",
      "   ...gnitseretni os ton si yadot   \n",
      "  oa snts \n",
      " .sn sd \n",
      "   today is not so interesting...   \n",
      "   TODAY IS NOT SO INTERESTING...   \n",
      "   Today Is Not So Interesting...   \n",
      "================================   today is not so interesting...   ================================\n",
      "today is not so interesting...\n",
      "3\n",
      "['today', 'is', 'not', 'so', 'interesting...']\n",
      "today_is_not_so_interesting...\n",
      "yesterday was not so interesting...\n",
      "y\n",
      "d\n"
     ]
    }
   ],
   "source": [
    "# [Start index ':' End index ':' Step in between.]\n",
    "ram='   today is not so interesting...   '\n",
    "print(ram)\n",
    "print(ram[0:35:1])                #Can mention end and start point.\n",
    "print(ram[::1])                   #Not mention refers full range.\n",
    "print(ram[::-1])                  #Represent inverse of string, as step is -1.\n",
    "print(ram[0:20:2])                #Can mention different range with different steps. \n",
    "print(ram[::-5])                  #Reverse can have different steps too.\n",
    "print(ram.capitalize())           #Capitalize sentence beginning.\n",
    "print(ram.swapcase())             #swaps the case of characters.\n",
    "print(ram.title())                #1st character of word is uppercase.\n",
    "print(ram.center(100,'='))        #(length here, what to replace with.?)\n",
    "print(ram.strip())                #Removes from either side.\n",
    "print(ram.count('o'))             #~~~~\n",
    "\n",
    "ram1=ram.strip()                  #ram1 is stripped, no space either side, so it will be easy to run split op.\n",
    "t,w,n,s,i=ram1.split(' ')         #Can be used to store single str in diff. str variable as token.\n",
    "print([t,w,n,s,i])                #Also used to break a string in diff tokens.\n",
    "\n",
    "print('_'.join([t,w,n,s,i]))      #Can be used to join/concatenate strings.\n",
    "\n",
    "print(ram1.replace('today is','yesterday was'))\n",
    "                                  #Use to change character with desired characters.\n",
    "\n",
    "print(max(ram1))\n",
    "print(min(ra))                    #ra is referenced from next..."
   ]
  },
  {
   "cell_type": "markdown",
   "id": "ea0c779a",
   "metadata": {},
   "source": [
    "## is.particular type.?"
   ]
  },
  {
   "cell_type": "code",
   "execution_count": 84,
   "id": "5d48ca8f",
   "metadata": {},
   "outputs": [
    {
     "name": "stdout",
     "output_type": "stream",
     "text": [
      "True\n",
      "True\n",
      "True\n"
     ]
    }
   ],
   "source": [
    "ra,ram2,ram3='jind','jind123','55'\n",
    "print(ra.isalpha())             #Check and gives bool output.\n",
    "print(ram2.isalnum())\n",
    "print(ram3.isdigit())\n"
   ]
  },
  {
   "cell_type": "markdown",
   "id": "57c75400",
   "metadata": {},
   "source": [
    "# Find() vs Index() op."
   ]
  },
  {
   "cell_type": "code",
   "execution_count": 95,
   "id": "91582e9f",
   "metadata": {},
   "outputs": [
    {
     "name": "stdout",
     "output_type": "stream",
     "text": [
      "7\n",
      "7\n",
      " \n",
      "-1\n"
     ]
    },
    {
     "ename": "ValueError",
     "evalue": "substring not found",
     "output_type": "error",
     "traceback": [
      "\u001b[1;31m---------------------------------------------------------------------------\u001b[0m",
      "\u001b[1;31mValueError\u001b[0m                                Traceback (most recent call last)",
      "Cell \u001b[1;32mIn[95], line 7\u001b[0m\n\u001b[0;32m      3\u001b[0m \u001b[38;5;28mprint\u001b[39m(a\u001b[38;5;241m.\u001b[39mindex(\u001b[38;5;124m\"\u001b[39m\u001b[38;5;124mthis\u001b[39m\u001b[38;5;124m\"\u001b[39m) ,end\u001b[38;5;241m=\u001b[39m\u001b[38;5;124m'\u001b[39m\u001b[38;5;130;01m\\n\u001b[39;00m\u001b[38;5;124m \u001b[39m\u001b[38;5;130;01m\\n\u001b[39;00m\u001b[38;5;124m'\u001b[39m)\n\u001b[0;32m      6\u001b[0m \u001b[38;5;28mprint\u001b[39m(a\u001b[38;5;241m.\u001b[39mfind(\u001b[38;5;124m\"\u001b[39m\u001b[38;5;124mThis\u001b[39m\u001b[38;5;124m\"\u001b[39m))\n\u001b[1;32m----> 7\u001b[0m \u001b[38;5;28mprint\u001b[39m(a\u001b[38;5;241m.\u001b[39mindex(\u001b[38;5;124m\"\u001b[39m\u001b[38;5;124mThis\u001b[39m\u001b[38;5;124m\"\u001b[39m))\n",
      "\u001b[1;31mValueError\u001b[0m: substring not found"
     ]
    }
   ],
   "source": [
    "a='End of this program'\n",
    "print(a.find(\"this\"))                        #Both same output, if match if found\n",
    "print(a.index(\"this\") ,end='\\n \\n')\n",
    "\n",
    "\n",
    "print(a.find(\"This\"))\n",
    "print(a.index(\"This\"))                       #Index shows value error, while end shows -1 location, i,e. non existant"
   ]
  },
  {
   "cell_type": "markdown",
   "id": "77f53a44",
   "metadata": {},
   "source": [
    "## In/Not in operator."
   ]
  },
  {
   "cell_type": "code",
   "execution_count": 103,
   "id": "8c6fb78c",
   "metadata": {},
   "outputs": [
    {
     "name": "stdout",
     "output_type": "stream",
     "text": [
      "True\n",
      "False\n",
      " \n",
      "True\n",
      "False\n"
     ]
    }
   ],
   "source": [
    "a='Now end of this program'\n",
    "print('of'in a)\n",
    "print('off'in a, end='\\n \\n')\n",
    "print('math' not in a)\n",
    "print('end' not in a)"
   ]
  }
 ],
 "metadata": {
  "kernelspec": {
   "display_name": "Python 3 (ipykernel)",
   "language": "python",
   "name": "python3"
  },
  "language_info": {
   "codemirror_mode": {
    "name": "ipython",
    "version": 3
   },
   "file_extension": ".py",
   "mimetype": "text/x-python",
   "name": "python",
   "nbconvert_exporter": "python",
   "pygments_lexer": "ipython3",
   "version": "3.11.4"
  }
 },
 "nbformat": 4,
 "nbformat_minor": 5
}
