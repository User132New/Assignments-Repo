{
 "cells": [
  {
   "cell_type": "markdown",
   "id": "e184b191",
   "metadata": {},
   "source": [
    "# To calculate average of three numbers."
   ]
  },
  {
   "cell_type": "code",
   "execution_count": null,
   "id": "6cf9292f",
   "metadata": {},
   "outputs": [],
   "source": [
    "from statistics import mean\n",
    "a=float(input('Enter first number : '))\n",
    "b=float(input('Enter second number : '))\n",
    "c=float(input('Enter third number : '))\n",
    "list=[a,b,c]\n",
    "d=mean(list)\n",
    "print(d,'is average')"
   ]
  },
  {
   "cell_type": "code",
   "execution_count": 12,
   "id": "7fc90ba7",
   "metadata": {},
   "outputs": [
    {
     "name": "stdout",
     "output_type": "stream",
     "text": [
      "Enter the total amount of numbers whose average is required :4\n",
      "Enter number : 1\n",
      "Enter number : 2\n",
      "Enter number : 3\n",
      "Enter number : 4\n",
      "a\n",
      "average of 3 number of integers is: 4.0\n"
     ]
    }
   ],
   "source": [
    "from statistics import mean\n",
    "j=int(input('Enter the total amount of numbers whose average is required :'))\n",
    "for j in range(0,j):\n",
    "    a=[float(input('Enter number : '))]\n",
    "print('a')\n",
    "d=mean(a)\n",
    "print(f'average of {j} number of integers is: {d}')"
   ]
  },
  {
   "cell_type": "code",
   "execution_count": null,
   "id": "3ca597ad",
   "metadata": {},
   "outputs": [],
   "source": [
    "import math\n",
    "print(dir(math))"
   ]
  }
 ],
 "metadata": {
  "kernelspec": {
   "display_name": "Python 3 (ipykernel)",
   "language": "python",
   "name": "python3"
  },
  "language_info": {
   "codemirror_mode": {
    "name": "ipython",
    "version": 3
   },
   "file_extension": ".py",
   "mimetype": "text/x-python",
   "name": "python",
   "nbconvert_exporter": "python",
   "pygments_lexer": "ipython3",
   "version": "3.11.4"
  }
 },
 "nbformat": 4,
 "nbformat_minor": 5
}
