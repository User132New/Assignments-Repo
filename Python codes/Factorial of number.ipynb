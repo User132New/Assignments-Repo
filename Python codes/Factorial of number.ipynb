{
 "cells": [
  {
   "cell_type": "markdown",
   "id": "e814d572",
   "metadata": {},
   "source": [
    "# To find factorial of a number."
   ]
  },
  {
   "cell_type": "code",
   "execution_count": 5,
   "id": "81963060",
   "metadata": {},
   "outputs": [
    {
     "name": "stdout",
     "output_type": "stream",
     "text": [
      "Enter the number whose factorial is required : 3\n",
      "6\n"
     ]
    }
   ],
   "source": [
    "a=int(input('Enter the number whose factorial is required : '))\n",
    "b=1\n",
    "for i in range(1,a+1):\n",
    "    b*=i\n",
    "print(b)"
   ]
  }
 ],
 "metadata": {
  "kernelspec": {
   "display_name": "Python 3 (ipykernel)",
   "language": "python",
   "name": "python3"
  },
  "language_info": {
   "codemirror_mode": {
    "name": "ipython",
    "version": 3
   },
   "file_extension": ".py",
   "mimetype": "text/x-python",
   "name": "python",
   "nbconvert_exporter": "python",
   "pygments_lexer": "ipython3",
   "version": "3.11.4"
  }
 },
 "nbformat": 4,
 "nbformat_minor": 5
}
