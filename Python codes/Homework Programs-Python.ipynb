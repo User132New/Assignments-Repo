{
 "cells": [
  {
   "cell_type": "markdown",
   "id": "79473685",
   "metadata": {},
   "source": [
    "# Introduction to Python Language - Jupyter Notebook"
   ]
  },
  {
   "cell_type": "code",
   "execution_count": 104,
   "id": "c8301a72",
   "metadata": {},
   "outputs": [
    {
     "name": "stdout",
     "output_type": "stream",
     "text": [
      "Hello Universe\n",
      "Welcome to Our Universe .!!!"
     ]
    }
   ],
   "source": [
    "print('Hello Universe', end='\\n')\n",
    "print('Welcome to Our Universe', end=' .!!!')\n"
   ]
  },
  {
   "cell_type": "markdown",
   "id": "0402c483",
   "metadata": {},
   "source": [
    "## To show minimum space usage."
   ]
  },
  {
   "cell_type": "code",
   "execution_count": 105,
   "id": "2d110b3b",
   "metadata": {},
   "outputs": [
    {
     "name": "stdout",
     "output_type": "stream",
     "text": [
      "140711277794216 140711277794216 140711277794216\n",
      "140711277794216 140711277794184 140711277794216\n",
      "140711277794216 140711277794216 140711277794216\n"
     ]
    }
   ],
   "source": [
    "a,b,c,=5,5,5\n",
    "print(id(a), id(b), id(c))\n",
    "b=4         #Now we change value of one of them.\n",
    "print(id(a), id(b), id(c))\n",
    "b=5       #Again we set same value to show it references same memory unit.\n",
    "print(id(a), id(b), id(c))\n"
   ]
  },
  {
   "cell_type": "markdown",
   "id": "5d9c762d",
   "metadata": {},
   "source": [
    "## To check class Type of variable and change it."
   ]
  },
  {
   "cell_type": "code",
   "execution_count": 106,
   "id": "a58a4c8a",
   "metadata": {},
   "outputs": [
    {
     "name": "stdout",
     "output_type": "stream",
     "text": [
      "<class 'float'> <class 'str'> <class 'int'>\n",
      "<class 'str'> <class 'str'> <class 'int'>\n",
      "Enter any non-string value : 3\n",
      "Entered value is of type :  <class 'str'>\n"
     ]
    }
   ],
   "source": [
    "a ,b ,c = 3.14, 'Rahul', 20230017\n",
    "print(type(a), type(b), type(c))\n",
    "#To change it.\n",
    "a=str(a)\n",
    "print(type(a), type(b), type(c))\n",
    "#We can see a is changed to str type.\n",
    "#To change it in input statement.\n",
    "B=str(input('Enter any non-string value : '))\n",
    "print('Entered value is of type : ',type(B))"
   ]
  },
  {
   "cell_type": "markdown",
   "id": "7f04514c",
   "metadata": {},
   "source": [
    "## To verify class of a variable."
   ]
  },
  {
   "cell_type": "code",
   "execution_count": 107,
   "id": "3493bf71",
   "metadata": {},
   "outputs": [
    {
     "name": "stdout",
     "output_type": "stream",
     "text": [
      "<class 'str'> <class 'int'> <class 'str'> <class 'bool'> <class 'NoneType'>\n",
      "False False True True False\n"
     ]
    }
   ],
   "source": [
    "r,a,h,u,l = 'rahul',17,'DCSA',True,None\n",
    "print(type(r), type(a), type(h), type(u), type(l))\n",
    "print(isinstance(r,bool) , \\\n",
    "      isinstance(a,float), \\\n",
    "      isinstance(h,str) , \\\n",
    "      isinstance(u,bool) , \\\n",
    "      isinstance(l,bool))\n"
   ]
  },
  {
   "cell_type": "markdown",
   "id": "cc83d174",
   "metadata": {},
   "source": [
    "## Program to calculate area and perimeter of a Circle."
   ]
  },
  {
   "cell_type": "code",
   "execution_count": 108,
   "id": "8cc38cab",
   "metadata": {},
   "outputs": [
    {
     "name": "stdout",
     "output_type": "stream",
     "text": [
      "Enter of Radius of Circle :5\n",
      "31.41592 is the Perimeter of circle having radius  5.0 .\n",
      "78.5398 is the Area of circle having radius  5.0 .\n"
     ]
    }
   ],
   "source": [
    "Pie=3.141592   #Vaule of mathematical expression(π)\n",
    "Radius=float(input('Enter of Radius of Circle :'))\n",
    "Perimeter=2*Pie*Radius   #2πr is perimeter of circle\n",
    "Area=Pie*Radius**2       #πr^2 is area of circle  \n",
    "print(Perimeter,'is the Perimeter of circle having radius ',Radius,'.')\n",
    "print(Area,'is the Area of circle having radius ',Radius,'.')"
   ]
  },
  {
   "cell_type": "markdown",
   "id": "687a8a0e",
   "metadata": {},
   "source": [
    "## Different Type of Operators."
   ]
  },
  {
   "cell_type": "code",
   "execution_count": 109,
   "id": "a74ef54d",
   "metadata": {},
   "outputs": [
    {
     "name": "stdout",
     "output_type": "stream",
     "text": [
      "True\n",
      "False\n",
      "True\n",
      "False\n",
      "2.3333333333333335\n",
      "2\n",
      "1\n"
     ]
    }
   ],
   "source": [
    "a,b = 7,3\n",
    "print(a>b)\n",
    "print(a<b)\n",
    "print(a>=b)\n",
    "print(a<=b)\n",
    "print(a/b)\n",
    "print(a//b)\n",
    "print(a%b)\n",
    "# '%' is used to find remainder, while '//' is used to find quotient."
   ]
  },
  {
   "cell_type": "markdown",
   "id": "c5bd0e3c",
   "metadata": {},
   "source": [
    "## Different types of Gates and boolean conditions in statements."
   ]
  },
  {
   "cell_type": "code",
   "execution_count": 110,
   "id": "a433a5a7",
   "metadata": {},
   "outputs": [
    {
     "name": "stdout",
     "output_type": "stream",
     "text": [
      "False\n",
      "False\n",
      "True\n"
     ]
    }
   ],
   "source": [
    "a,b = 5, 6\n",
    "#AND Gate.\n",
    "print((a>b) and (a>=b))\n",
    "#OR Gate.\n",
    "print((a>b) or (a>=b))\n",
    "#NOT Gate.\n",
    "print(not((a>b) and (a>=b)))"
   ]
  },
  {
   "cell_type": "markdown",
   "id": "bac8dfe7",
   "metadata": {},
   "source": [
    "## To find if Given Number is Odd or Even."
   ]
  },
  {
   "cell_type": "code",
   "execution_count": 111,
   "id": "f03f3b71",
   "metadata": {},
   "outputs": [
    {
     "name": "stdout",
     "output_type": "stream",
     "text": [
      "Enter the Number :3\n",
      "3 is an odd number.\n"
     ]
    }
   ],
   "source": [
    "a=int(input('Enter the Number :'))\n",
    "if (a%2==0):\n",
    "    print(a,'is an even number.')\n",
    "else:\n",
    "    print(a,'is an odd number.')\n"
   ]
  },
  {
   "cell_type": "markdown",
   "id": "73698117",
   "metadata": {},
   "source": [
    "## To  find Greatest of three numbers."
   ]
  },
  {
   "cell_type": "code",
   "execution_count": 112,
   "id": "bec4c9fe",
   "metadata": {},
   "outputs": [
    {
     "name": "stdout",
     "output_type": "stream",
     "text": [
      "Enter the First Number :5\n",
      "Enter the Second Number :6\n",
      "Enter the Third Number :7\n",
      "7  is the greatest Number from 5 6 7\n"
     ]
    }
   ],
   "source": [
    "a=int(input('Enter the First Number :'))\n",
    "b=int(input('Enter the Second Number :'))\n",
    "c=int(input('Enter the Third Number :'))\n",
    "\n",
    "if (a==b==c):\n",
    "    print('All Numbers are equal.')\n",
    "else:\n",
    "    if (a>b):\n",
    "        max=a\n",
    "    else :\n",
    "        max=b\n",
    "    if (max>c):\n",
    "        print(max,' is the greatest Number from',a,b,c)\n",
    "    else:\n",
    "        print(c,' is the greatest Number from',a,b,c)\n"
   ]
  }
 ],
 "metadata": {
  "kernelspec": {
   "display_name": "Python 3 (ipykernel)",
   "language": "python",
   "name": "python3"
  },
  "language_info": {
   "codemirror_mode": {
    "name": "ipython",
    "version": 3
   },
   "file_extension": ".py",
   "mimetype": "text/x-python",
   "name": "python",
   "nbconvert_exporter": "python",
   "pygments_lexer": "ipython3",
   "version": "3.11.4"
  }
 },
 "nbformat": 4,
 "nbformat_minor": 5
}
