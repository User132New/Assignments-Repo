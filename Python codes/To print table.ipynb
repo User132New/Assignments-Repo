{
 "cells": [
  {
   "cell_type": "markdown",
   "id": "33c00f40",
   "metadata": {},
   "source": [
    "# Program to print table of given number."
   ]
  },
  {
   "cell_type": "code",
   "execution_count": 3,
   "id": "5c4cea83",
   "metadata": {},
   "outputs": [
    {
     "name": "stdout",
     "output_type": "stream",
     "text": [
      "Please enter the number whose table is required :9\n",
      "9 x 1 = 9\n",
      "9 x 2 = 18\n",
      "9 x 3 = 27\n",
      "9 x 4 = 36\n",
      "9 x 5 = 45\n",
      "9 x 6 = 54\n",
      "9 x 7 = 63\n",
      "9 x 8 = 72\n",
      "9 x 9 = 81\n",
      "9 x 10 = 90\n"
     ]
    }
   ],
   "source": [
    "a=int(input('Please enter the number whose table is required :'))\n",
    "e=1\n",
    "while (1<=e<=10):\n",
    "    d=a*e\n",
    "    print(f'{a} x {e} = {d}')\n",
    "    e+=1"
   ]
  }
 ],
 "metadata": {
  "kernelspec": {
   "display_name": "Python 3 (ipykernel)",
   "language": "python",
   "name": "python3"
  },
  "language_info": {
   "codemirror_mode": {
    "name": "ipython",
    "version": 3
   },
   "file_extension": ".py",
   "mimetype": "text/x-python",
   "name": "python",
   "nbconvert_exporter": "python",
   "pygments_lexer": "ipython3",
   "version": "3.11.4"
  }
 },
 "nbformat": 4,
 "nbformat_minor": 5
}
