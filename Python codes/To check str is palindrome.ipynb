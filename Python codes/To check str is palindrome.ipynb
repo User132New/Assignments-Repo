{
 "cells": [
  {
   "cell_type": "markdown",
   "id": "1931d7be",
   "metadata": {},
   "source": [
    "# Program to check if string is palindrome."
   ]
  },
  {
   "cell_type": "code",
   "execution_count": 2,
   "id": "5b53923e",
   "metadata": {},
   "outputs": [
    {
     "name": "stdout",
     "output_type": "stream",
     "text": [
      "Please enter the string : racecar\n",
      "String is palindrome.\n"
     ]
    }
   ],
   "source": [
    "s=input('Please enter the string : ')\n",
    "s1=s\n",
    "s2=s[ : : -1]\n",
    "if s1==s2:\n",
    "    print('String is palindrome.')\n",
    "else:\n",
    "    print('String is not palindrome.')"
   ]
  }
 ],
 "metadata": {
  "kernelspec": {
   "display_name": "Python 3 (ipykernel)",
   "language": "python",
   "name": "python3"
  },
  "language_info": {
   "codemirror_mode": {
    "name": "ipython",
    "version": 3
   },
   "file_extension": ".py",
   "mimetype": "text/x-python",
   "name": "python",
   "nbconvert_exporter": "python",
   "pygments_lexer": "ipython3",
   "version": "3.11.4"
  }
 },
 "nbformat": 4,
 "nbformat_minor": 5
}
