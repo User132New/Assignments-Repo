{
 "cells": [
  {
   "cell_type": "code",
   "execution_count": 8,
   "id": "581b6cbc",
   "metadata": {},
   "outputs": [
    {
     "data": {
      "text/plain": [
       "120"
      ]
     },
     "execution_count": 8,
     "metadata": {},
     "output_type": "execute_result"
    }
   ],
   "source": [
    "def fact(i):\n",
    "    c=1\n",
    "    for j in range(1,i+1):\n",
    "        c=c*j\n",
    "    return(c)\n",
    "fact(5)"
   ]
  },
  {
   "cell_type": "code",
   "execution_count": 13,
   "id": "ddabb2b2",
   "metadata": {},
   "outputs": [
    {
     "name": "stdout",
     "output_type": "stream",
     "text": [
      "Enter the number of terms required. :15\n",
      "The fibonacci 15 terms are :\n",
      "0\n",
      "1\n",
      "1\n",
      "2\n",
      "3\n",
      "5\n",
      "8\n",
      "13\n",
      "21\n",
      "34\n",
      "55\n",
      "89\n",
      "144\n",
      "233\n",
      "377\n"
     ]
    }
   ],
   "source": [
    "def fibo(i): \n",
    "    if (i==1):\n",
    "        return 0\n",
    "    elif(i==2):\n",
    "        return 1\n",
    "    else:\n",
    "        return(fibo(i-1)+fibo(i-2))\n",
    "#fibo(5)\n",
    "#for i in range(1,6):\n",
    "    #print(fibo(i))\n",
    "\n",
    "x=int(input(\"Enter the number of terms required. :\"))\n",
    "\n",
    "print(f'The fibonacci {x} terms are :')\n",
    "for i in range(1,x+1):\n",
    "    print(fibo(i))"
   ]
  },
  {
   "cell_type": "code",
   "execution_count": null,
   "id": "6c0cd2d6",
   "metadata": {},
   "outputs": [],
   "source": []
  }
 ],
 "metadata": {
  "kernelspec": {
   "display_name": "Python 3 (ipykernel)",
   "language": "python",
   "name": "python3"
  },
  "language_info": {
   "codemirror_mode": {
    "name": "ipython",
    "version": 3
   },
   "file_extension": ".py",
   "mimetype": "text/x-python",
   "name": "python",
   "nbconvert_exporter": "python",
   "pygments_lexer": "ipython3",
   "version": "3.9.13"
  }
 },
 "nbformat": 4,
 "nbformat_minor": 5
}
