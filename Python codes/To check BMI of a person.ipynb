{
 "cells": [
  {
   "cell_type": "markdown",
   "id": "c7a24b1e",
   "metadata": {},
   "source": [
    "# To check BMI of a person.\n"
   ]
  },
  {
   "cell_type": "code",
   "execution_count": 1,
   "id": "7c430e9f",
   "metadata": {},
   "outputs": [
    {
     "name": "stdout",
     "output_type": "stream",
     "text": [
      "Please enter your height in feet.inch :5.8\n",
      "Please enter your weight in K.G. :57\n",
      "The BMI of person is : 19.10687212377885\n"
     ]
    }
   ],
   "source": [
    "hei=input('Please enter your height in feet.inch :')\n",
    "wei=int(input('Please enter your weight in K.G. :'))\n",
    "hei1,hei2=hei.split('.')\n",
    "he1=float(hei1)\n",
    "he2=float(hei2)\n",
    "h1=he1*0.3048\n",
    "h2=he2*0.0254\n",
    "h=h1+h2\n",
    "BMI=wei/(h*h)\n",
    "print('The BMI of person is :',BMI)"
   ]
  }
 ],
 "metadata": {
  "kernelspec": {
   "display_name": "Python 3 (ipykernel)",
   "language": "python",
   "name": "python3"
  },
  "language_info": {
   "codemirror_mode": {
    "name": "ipython",
    "version": 3
   },
   "file_extension": ".py",
   "mimetype": "text/x-python",
   "name": "python",
   "nbconvert_exporter": "python",
   "pygments_lexer": "ipython3",
   "version": "3.11.4"
  }
 },
 "nbformat": 4,
 "nbformat_minor": 5
}
