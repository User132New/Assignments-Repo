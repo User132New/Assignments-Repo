{
 "cells": [
  {
   "cell_type": "markdown",
   "id": "6c14f978",
   "metadata": {},
   "source": [
    "# 1"
   ]
  },
  {
   "cell_type": "code",
   "execution_count": 2,
   "id": "7b11f19d",
   "metadata": {},
   "outputs": [
    {
     "name": "stdout",
     "output_type": "stream",
     "text": [
      "Enter daily travelled distance in K.M. : 80\n",
      "Enter the current Fuel Price in rupee/litre :80\n",
      "Enter your vehicle average K.M./Litre :18\n",
      "Daily Driving cost is :355.55555555555554 Rupees.\n"
     ]
    }
   ],
   "source": [
    "Distance=int(input(\"Enter daily travelled \\\n",
    "distance in K.M. : \"))\n",
    "Cost=int(input(\"Enter the current Fuel Price in rupee/litre :\"))\n",
    "Average=int(input(\"Enter your vehicle average K.M./Litre :\"))\n",
    "Fuel_Usage=Distance/Average\n",
    "Driving_cost=Cost*Fuel_Usage\n",
    "print(f\"Daily Driving cost is :{Driving_cost} Rupees.\") "
   ]
  },
  {
   "cell_type": "markdown",
   "id": "b2a9b2ad",
   "metadata": {},
   "source": [
    "# 2"
   ]
  },
  {
   "cell_type": "code",
   "execution_count": 4,
   "id": "3f3f1f25",
   "metadata": {},
   "outputs": [
    {
     "name": "stdout",
     "output_type": "stream",
     "text": [
      "1\n",
      "2\n",
      "Shabad\n",
      "4\n",
      "Golu\n",
      "Shabad\n",
      "7\n",
      "8\n",
      "Shabad\n",
      "Golu\n",
      "11\n",
      "Shabad\n",
      "13\n",
      "14\n",
      "Shabad & Golu\n",
      "16\n",
      "17\n",
      "Shabad\n",
      "19\n",
      "Golu\n",
      "Shabad\n",
      "22\n",
      "23\n",
      "Shabad\n",
      "Golu\n",
      "26\n",
      "Shabad\n",
      "28\n",
      "29\n",
      "Shabad & Golu\n"
     ]
    }
   ],
   "source": [
    "for i in range(1,31):\n",
    "    if((i%3==0)&(i%5==0)):\n",
    "        print('Shabad & Golu')\n",
    "        continue;\n",
    "    elif(i%3==0):\n",
    "        print('Shabad')\n",
    "        continue;\n",
    "    elif(i%5==0):\n",
    "        print('Golu')\n",
    "        continue;\n",
    "    else:\n",
    "        print(i)"
   ]
  },
  {
   "cell_type": "markdown",
   "id": "191ae29f",
   "metadata": {},
   "source": [
    "# 3"
   ]
  },
  {
   "cell_type": "code",
   "execution_count": 20,
   "id": "1f56a638",
   "metadata": {},
   "outputs": [
    {
     "name": "stdout",
     "output_type": "stream",
     "text": [
      "Please Enter the integer :54\n",
      "54 is not palindrome.\n"
     ]
    }
   ],
   "source": [
    "n=int(input(\"Please Enter the integer :\" ))\n",
    "Temp=n\n",
    "Rev=0\n",
    "while (n>0):\n",
    "    Digit=n%10\n",
    "    Rev=Rev*10+Digit\n",
    "    n=n//10\n",
    "if(Rev==Temp):\n",
    "    print(f\"{Temp} is palindrome.\")\n",
    "else:\n",
    "    print(f\"{Temp} is not palindrome.\")"
   ]
  },
  {
   "cell_type": "markdown",
   "id": "1603e3b9",
   "metadata": {},
   "source": [
    "# 4"
   ]
  },
  {
   "cell_type": "code",
   "execution_count": 17,
   "id": "b181ee35",
   "metadata": {},
   "outputs": [
    {
     "name": "stdout",
     "output_type": "stream",
     "text": [
      "Please enter your height in feet.inch :5.4\n",
      "Please enter your weight in K.G. :45\n",
      "The BMI of person is 17.028842651435305.\n"
     ]
    }
   ],
   "source": [
    "hei=input('Please enter your height in feet.inch :')\n",
    "wei=int(input('Please enter your weight in K.G. :'))\n",
    "hei1,hei2=hei.split('.')\n",
    "he1=float(hei1)\n",
    "he2=float(hei2)\n",
    "h=(he1*0.3048)+(he2*0.0254)\n",
    "BMI=wei/(h*h)\n",
    "print(f'The BMI of person is {BMI}.')"
   ]
  },
  {
   "cell_type": "markdown",
   "id": "6259a17b",
   "metadata": {},
   "source": [
    "# 5"
   ]
  },
  {
   "cell_type": "code",
   "execution_count": 2,
   "id": "c2bea3a8",
   "metadata": {},
   "outputs": [
    {
     "name": "stdout",
     "output_type": "stream",
     "text": [
      "Enter partial or full city names to match : pur\n",
      "['Jaipur', 'Nagpur', 'Kanpur', 'Sholapur']\n"
     ]
    }
   ],
   "source": [
    "cities=['Jaipur','Ambala','Nagpur','Kanpur',\\\n",
    "        'Karnal','Sholapur']\n",
    "list=[]\n",
    "to_find=input('Enter partial or full city names to match : ')\n",
    "for names in cities:\n",
    "    if to_find in names:\n",
    "       list.append(names)\n",
    "cities=list\n",
    "print(cities)\n",
    "#print(f'number of matches {len(cities)}')"
   ]
  },
  {
   "cell_type": "markdown",
   "id": "5a4e3c37",
   "metadata": {},
   "source": [
    "# 6"
   ]
  },
  {
   "cell_type": "code",
   "execution_count": 6,
   "id": "eb6c8ebb",
   "metadata": {},
   "outputs": [
    {
     "name": "stdout",
     "output_type": "stream",
     "text": [
      "[('34587', 163.8), ('98762', 284.0), ('77226', 108.85000000000001)]\n",
      "\n",
      "The Grand Total for your Book Orders is 556.65 Rupees.\n"
     ]
    }
   ],
   "source": [
    "book_orders = [\n",
    "    ['Order Number','Book Title','Author','Quantity','Unit Price'],\n",
    "    ['34587','Learning Python','Mark Lutz','4','40.95'],\n",
    "    ['98762','Programming Python','Mark Lutz','5','56.80'],\n",
    "    ['77226','Head First Python','Paul Barry','3','32.95']\n",
    "]\n",
    "li=[]        #Empty list.\n",
    "Grand_Total=0\n",
    "for item in book_orders[1:]:       #To skip 1st row.\n",
    "    O_No=item[0]\n",
    "    Net=float(item[3])*float(item[4])\n",
    "    if (Net<100):                  #If net<100, price is\n",
    "        Net+=10                    #incemented by 10Rs.\n",
    "    li.append(tuple([O_No,Net]))\n",
    "    Grand_Total+=Net\n",
    "print(li)\n",
    "print()\n",
    "print(f'The Grand Total for your Book Orders is {Grand_Total} Rupees.')"
   ]
  },
  {
   "cell_type": "markdown",
   "id": "4bae5ffc",
   "metadata": {},
   "source": [
    "# 7\n"
   ]
  },
  {
   "cell_type": "code",
   "execution_count": 7,
   "id": "7ab9225e",
   "metadata": {},
   "outputs": [
    {
     "name": "stdout",
     "output_type": "stream",
     "text": [
      "{'a': 6, 'b': 1, 'c': 1, 'd': 3}\n"
     ]
    }
   ],
   "source": [
    "string = \"aabaacdaadd\"\n",
    "frequency_dict = {}\n",
    "for char in string:\n",
    "    if char in frequency_dict:\n",
    "        frequency_dict[char] += 1\n",
    "    else:\n",
    "        frequency_dict[char] = 1\n",
    "print(frequency_dict)\n"
   ]
  },
  {
   "cell_type": "markdown",
   "id": "ed6c362e",
   "metadata": {},
   "source": [
    "# 8"
   ]
  },
  {
   "cell_type": "code",
   "execution_count": 2,
   "id": "f51db897",
   "metadata": {},
   "outputs": [
    {
     "name": "stdout",
     "output_type": "stream",
     "text": [
      "enter item name,quantity sold, unit price :Banana Fries,2,20.60\n",
      "enter item name,quantity sold, unit price :Potato Chips,3,15.50\n",
      "enter item name,quantity sold, unit price :Apple Juice,10,100.75\n",
      "enter item name,quantity sold, unit price :Candy,5,2.50\n",
      "enter item name,quantity sold, unit price :Apple Juice,6,100.75\n",
      "enter item name,quantity sold, unit price :Candy,5,2.50\n",
      "enter item name,quantity sold, unit price :Candy,5,2.50\n",
      "enter item name,quantity sold, unit price :Banana Fries,3,20.60\n",
      "enter item name,quantity sold, unit price :Candy,5,2.50\n",
      "enter item name,quantity sold, unit price :Potato Chips,5,15.50\n",
      "enter item name,quantity sold, unit price :close\n",
      "{'BANANA FRIES': 103.0, 'POTATO CHIPS': 124.0, 'APPLE JUICE': 1612.0, 'CANDY': 50.0}\n"
     ]
    }
   ],
   "source": [
    "d = {}\n",
    "while True:\n",
    "    key_value=input(\"enter item name,quantity sold, unit price :\").upper()\n",
    "    if key_value == \"CLOSE\":\n",
    "        break\n",
    "    item_name,quantity_sold,unit_price=key_value.split(\",\")\n",
    "    key=item_name\n",
    "    value1 = int (quantity_sold)\n",
    "    value2 = float(unit_price)\n",
    "    value = value1*value2\n",
    "    if key in d:\n",
    "        d[key] += value\n",
    "    else:\n",
    "        d[key] = value\n",
    "print(d)\n"
   ]
  },
  {
   "cell_type": "markdown",
   "id": "bacdfeb7",
   "metadata": {},
   "source": [
    "# 9"
   ]
  },
  {
   "cell_type": "code",
   "execution_count": 43,
   "id": "5d5688d1",
   "metadata": {},
   "outputs": [
    {
     "name": "stdout",
     "output_type": "stream",
     "text": [
      "Subject: Ben\n",
      "Type: Clerk\n",
      "Experience: 15\n"
     ]
    }
   ],
   "source": [
    "def variable_args(**args):\n",
    "    for key, value in args.items():\n",
    "        print(f\"{key}: {value}\")\n",
    "variable_args(Subject=\"Ben\", Type=\"Clerk\", Experience=\"15\")\n"
   ]
  },
  {
   "cell_type": "markdown",
   "id": "6cf06e0f",
   "metadata": {},
   "source": [
    "# 10"
   ]
  },
  {
   "cell_type": "code",
   "execution_count": 16,
   "id": "05c9a35b",
   "metadata": {},
   "outputs": [
    {
     "name": "stdout",
     "output_type": "stream",
     "text": [
      "Enter the number of terms required. :10\n",
      "The fibonacci 10th term is 34\n",
      "The fibonacci 10 terms are :\n",
      "0\n",
      "1\n",
      "1\n",
      "2\n",
      "3\n",
      "5\n",
      "8\n",
      "13\n",
      "21\n",
      "34\n"
     ]
    }
   ],
   "source": [
    "def fibo(i): \n",
    "    if (i==1):\n",
    "        return 0\n",
    "    elif(i==2):\n",
    "        return 1\n",
    "    else:\n",
    "        return(fibo(i-1)+fibo(i-2))\n",
    "x=int(input(\"Enter the number of terms required. :\"))\n",
    "print(f'The fibonacci {x}th term is {fibo(x)}.')\n",
    "print(f'The fibonacci {x} terms are :')\n",
    "for i in range(1,x+1):\n",
    "    print(fibo(i))"
   ]
  },
  {
   "cell_type": "markdown",
   "id": "e41bef31",
   "metadata": {},
   "source": [
    "# 11"
   ]
  },
  {
   "cell_type": "code",
   "execution_count": 16,
   "id": "2431f605",
   "metadata": {},
   "outputs": [
    {
     "name": "stdout",
     "output_type": "stream",
     "text": [
      "The Error is : division by zero\n"
     ]
    }
   ],
   "source": [
    "i, j, k=8,0,0\n",
    "try:\n",
    "    k=i/j\n",
    "    print(\"k=\",k)\n",
    "    print(\"End\")\n",
    "except ZeroDivisionError as e:\n",
    "    print(\"The Error is :\",e)"
   ]
  },
  {
   "cell_type": "markdown",
   "id": "0c9d2a77",
   "metadata": {},
   "source": [
    "# 12"
   ]
  },
  {
   "cell_type": "code",
   "execution_count": 28,
   "id": "4e6f81c3",
   "metadata": {},
   "outputs": [
    {
     "name": "stdout",
     "output_type": "stream",
     "text": [
      "Enter student marks : 101\n",
      "Enter Student Marks correctly.\n"
     ]
    }
   ],
   "source": [
    "try:\n",
    "    marks=int(input(\"Enter student marks : \"))\n",
    "    assert marks>=0 and marks<=100\n",
    "    print(f'Entered student marks : {marks}')\n",
    "except AssertionError:\n",
    "    print('Enter Student Marks correctly.')"
   ]
  },
  {
   "cell_type": "markdown",
   "id": "b4c6985c",
   "metadata": {},
   "source": [
    "# 13"
   ]
  },
  {
   "cell_type": "code",
   "execution_count": 35,
   "id": "4e764c76",
   "metadata": {},
   "outputs": [
    {
     "name": "stdout",
     "output_type": "stream",
     "text": [
      "Enter student marks : 444\n",
      "Invalid Marks.\n",
      "<class '__main__.UserException'>\n"
     ]
    }
   ],
   "source": [
    "class UserException(Exception):\n",
    "    def _init(self,msg):\n",
    "        self.message=msg\n",
    "marks=int(input(\"Enter student marks : \"))\n",
    "try:\n",
    "    if(marks<0 or marks>100):\n",
    "        raise UserException(\"Invalid Marks.\")\n",
    "except UserException as error:\n",
    "    print(error)\n",
    "    print(type(error))"
   ]
  }
 ],
 "metadata": {
  "kernelspec": {
   "display_name": "Python 3 (ipykernel)",
   "language": "python",
   "name": "python3"
  },
  "language_info": {
   "codemirror_mode": {
    "name": "ipython",
    "version": 3
   },
   "file_extension": ".py",
   "mimetype": "text/x-python",
   "name": "python",
   "nbconvert_exporter": "python",
   "pygments_lexer": "ipython3",
   "version": "3.11.4"
  }
 },
 "nbformat": 4,
 "nbformat_minor": 5
}
