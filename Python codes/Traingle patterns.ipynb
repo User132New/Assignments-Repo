{
 "cells": [
  {
   "cell_type": "markdown",
   "id": "50abb0af",
   "metadata": {},
   "source": [
    "# Program to print different Traingle Pattern.\n"
   ]
  },
  {
   "cell_type": "markdown",
   "id": "e45bae1d",
   "metadata": {},
   "source": [
    "# For Right-hand Traingle:"
   ]
  },
  {
   "cell_type": "code",
   "execution_count": 9,
   "id": "c235d236",
   "metadata": {},
   "outputs": [
    {
     "name": "stdout",
     "output_type": "stream",
     "text": [
      "Please enter number of lines : 5\n",
      "* \n",
      "* * \n",
      "* * * \n",
      "* * * * \n",
      "* * * * * \n"
     ]
    }
   ],
   "source": [
    "import numpy as nps\n",
    "a=int(input('Please enter number of lines : '))\n",
    "for i in range(1,a+1):\n",
    "    for j in range(1,i+1):\n",
    "        print('*', end=' ')\n",
    "    print()"
   ]
  },
  {
   "cell_type": "markdown",
   "id": "018c7b7a",
   "metadata": {},
   "source": [
    "# For Left-hand Traingle:"
   ]
  },
  {
   "cell_type": "code",
   "execution_count": 32,
   "id": "5058d077",
   "metadata": {},
   "outputs": [
    {
     "name": "stdout",
     "output_type": "stream",
     "text": [
      "Please enter number of lines : 5\n",
      "        * \n",
      "      * * \n",
      "    * * * \n",
      "  * * * * \n",
      "* * * * * \n"
     ]
    }
   ],
   "source": [
    "import numpy as np\n",
    "a=int(input('Please enter number of lines : '))\n",
    "for i in range(1,a+1):\n",
    "    for j in np.arange(a-i,0,-1):#1st is start point in np arange, 2nd is end point\n",
    "        print(end='  ')           #3rd is to show the change of range., We Need single space.\n",
    "                                 #before characters so end=' '\n",
    "    for k in range(1,i+1):       #This for loop displays the * traingular format.\n",
    "        print('*', end=' ')      #if last end have double space, then this can have single to maintain proper gap.\n",
    "    print()                      #For entering new line"
   ]
  },
  {
   "cell_type": "markdown",
   "id": "d8386564",
   "metadata": {},
   "source": [
    "# For isoscale Traingle:"
   ]
  },
  {
   "cell_type": "code",
   "execution_count": 18,
   "id": "265d770c",
   "metadata": {},
   "outputs": [
    {
     "name": "stdout",
     "output_type": "stream",
     "text": [
      "Please enter number of lines : 5\n",
      "    * \n",
      "   * * \n",
      "  * * * \n",
      " * * * * \n",
      "* * * * * \n"
     ]
    }
   ],
   "source": [
    "import numpy as np\n",
    "a=int(input('Please enter number of lines : '))\n",
    "for i in range(1,a+1):\n",
    "    for j in np.arange(a-i,0,-1):#1st is start point in np arange, 2nd is end point\n",
    "        print(end=' ')           #3rd is to show the change of range., We Need single space.\n",
    "                                 #before characters so end=' '\n",
    "    for k in range(1,i+1):       #This for loop displays the * traingular format.\n",
    "        print('*', end=' ')      #Space is added to display space after the * end and make it iso-scale traingle.\n",
    "    print()                      #For entering new line"
   ]
  },
  {
   "cell_type": "markdown",
   "id": "5d743550",
   "metadata": {},
   "source": [
    "# For isoscales Traingle, with odd no changing pattern."
   ]
  },
  {
   "cell_type": "code",
   "execution_count": 34,
   "id": "7d9edc84",
   "metadata": {},
   "outputs": [
    {
     "name": "stdout",
     "output_type": "stream",
     "text": [
      "Please enter number of lines : 5\n",
      "        * \n",
      "      * * * \n",
      "    * * * * * \n",
      "  * * * * * * * \n",
      "* * * * * * * * * \n"
     ]
    }
   ],
   "source": [
    "import numpy as np\n",
    "a=int(input('Please enter number of lines : '))\n",
    "for i in range(1,a+1):\n",
    "    for j in np.arange(a-i,0,-1):#1st is start point in np arange, 2nd is end point\n",
    "        print(end='  ')          #3rd is to show the change of range., We Need single space.\n",
    "                                 #before characters so end=' '\n",
    "    for k in range(1,i+1):       #This for loop displays the * traingular format.\n",
    "        print('*', end=' ')      #if last end have double space, then this can have single to maintain proper gap.\n",
    "    for k in range(0,i-1):         #This for loop displays the * traingular format.\n",
    "        print('*', end=' ')\n",
    "    print()                      #For entering new line"
   ]
  }
 ],
 "metadata": {
  "kernelspec": {
   "display_name": "Python 3 (ipykernel)",
   "language": "python",
   "name": "python3"
  },
  "language_info": {
   "codemirror_mode": {
    "name": "ipython",
    "version": 3
   },
   "file_extension": ".py",
   "mimetype": "text/x-python",
   "name": "python",
   "nbconvert_exporter": "python",
   "pygments_lexer": "ipython3",
   "version": "3.11.4"
  }
 },
 "nbformat": 4,
 "nbformat_minor": 5
}
