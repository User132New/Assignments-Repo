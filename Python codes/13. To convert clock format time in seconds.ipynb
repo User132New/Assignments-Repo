{
 "cells": [
  {
   "cell_type": "markdown",
   "id": "1122ef4d",
   "metadata": {},
   "source": [
    "# To convert clock format time in seconds\n"
   ]
  },
  {
   "cell_type": "code",
   "execution_count": 1,
   "id": "33fb25cc",
   "metadata": {},
   "outputs": [
    {
     "name": "stdout",
     "output_type": "stream",
     "text": [
      "Please enter clock time : 02:02:30\n",
      "The time in seconds is : 7350\n"
     ]
    }
   ],
   "source": [
    "t=input('Please enter clock time : ')\n",
    "h,m,s=t.split(':')\n",
    "h1, m1, s1 = map(int, (h, m, s))\n",
    "s2=h1*3600\n",
    "s3=m1*60\n",
    "sec=s1+s2+s3\n",
    "print(f'The time in seconds is : {sec}')"
   ]
  }
 ],
 "metadata": {
  "kernelspec": {
   "display_name": "Python 3 (ipykernel)",
   "language": "python",
   "name": "python3"
  },
  "language_info": {
   "codemirror_mode": {
    "name": "ipython",
    "version": 3
   },
   "file_extension": ".py",
   "mimetype": "text/x-python",
   "name": "python",
   "nbconvert_exporter": "python",
   "pygments_lexer": "ipython3",
   "version": "3.11.4"
  }
 },
 "nbformat": 4,
 "nbformat_minor": 5
}
