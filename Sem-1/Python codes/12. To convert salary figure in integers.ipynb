{
 "cells": [
  {
   "cell_type": "markdown",
   "id": "3e8f7835",
   "metadata": {},
   "source": [
    "# To convert salary figure in integers."
   ]
  },
  {
   "cell_type": "code",
   "execution_count": 1,
   "id": "9a528627",
   "metadata": {},
   "outputs": [
    {
     "name": "stdout",
     "output_type": "stream",
     "text": [
      "Please Enter the salary = $150,009\n",
      "Salary in numbers is : 150009\n"
     ]
    }
   ],
   "source": [
    "s=input('Please Enter the salary = ')\n",
    "s1=s.replace('$','')\n",
    "s2=s1.replace(',','')\n",
    "salary=int(s2)\n",
    "print(f'Salary in numbers is : {salary}')"
   ]
  }
 ],
 "metadata": {
  "kernelspec": {
   "display_name": "Python 3 (ipykernel)",
   "language": "python",
   "name": "python3"
  },
  "language_info": {
   "codemirror_mode": {
    "name": "ipython",
    "version": 3
   },
   "file_extension": ".py",
   "mimetype": "text/x-python",
   "name": "python",
   "nbconvert_exporter": "python",
   "pygments_lexer": "ipython3",
   "version": "3.11.4"
  }
 },
 "nbformat": 4,
 "nbformat_minor": 5
}
