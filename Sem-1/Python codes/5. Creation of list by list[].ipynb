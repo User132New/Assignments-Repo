{
 "cells": [
  {
   "cell_type": "markdown",
   "id": "4c615522",
   "metadata": {},
   "source": [
    "# Creating a list and numpy function."
   ]
  },
  {
   "cell_type": "code",
   "execution_count": null,
   "id": "d1c639ea",
   "metadata": {},
   "outputs": [],
   "source": []
  },
  {
   "cell_type": "code",
   "execution_count": 10,
   "id": "9d9589ba",
   "metadata": {},
   "outputs": [
    {
     "name": "stdout",
     "output_type": "stream",
     "text": [
      "Enter the numbers :55 66 44\n",
      "List of numbers entered ['55', '66', '44']\n",
      "maximum is : ['44', '55', '66']\n"
     ]
    }
   ],
   "source": [
    "import numpy as np\n",
    "c=input(\"Enter the numbers :\")\n",
    "j=[y for y in c.split()]\n",
    "print('List of numbers entered',j)\n",
    "l=max(j)\n",
    "j.sort()\n",
    "print('maximum is :',j)"
   ]
  }
 ],
 "metadata": {
  "kernelspec": {
   "display_name": "Python 3 (ipykernel)",
   "language": "python",
   "name": "python3"
  },
  "language_info": {
   "codemirror_mode": {
    "name": "ipython",
    "version": 3
   },
   "file_extension": ".py",
   "mimetype": "text/x-python",
   "name": "python",
   "nbconvert_exporter": "python",
   "pygments_lexer": "ipython3",
   "version": "3.11.4"
  }
 },
 "nbformat": 4,
 "nbformat_minor": 5
}
