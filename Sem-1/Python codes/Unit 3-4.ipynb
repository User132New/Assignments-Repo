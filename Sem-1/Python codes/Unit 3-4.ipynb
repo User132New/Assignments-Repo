{
 "cells": [
  {
   "cell_type": "code",
   "execution_count": 30,
   "id": "9ee176ef",
   "metadata": {},
   "outputs": [
    {
     "name": "stdout",
     "output_type": "stream",
     "text": [
      "('January', 'February', 'March', 'April', 'May', 'June', 'July', 'August', 'September', 'October', 'November', 'December')\n",
      "\n",
      "('January', 'February', 'March', 'April', 'May', 'June', 'July', 'August', 'September', 'October', 'November', 'December')\n",
      "\n",
      "(('January', 'February', 'March'), ('April', 'May', 'June'), ('July', 'August', 'September'), ('October', 'November', 'December'))\n"
     ]
    }
   ],
   "source": [
    "#Tuples - Are immutable. The values or items in the tuple cannot be changed once it is declared. If we want to \n",
    "#              change the values, we have to create a new tuple \n",
    "#Are placed in parenthesis for easier understanding, not requirement.\n",
    "months = ('January', 'February', 'March', 'April', 'May', 'June', \\\n",
    "          'July', 'August', 'September', 'October', 'November', 'December')\n",
    "print(months)\n",
    "print()\n",
    "\n",
    "# Can be without parenthesis too..\n",
    "month = 'January', 'February', 'March', 'April', 'May', 'June', \\\n",
    "          'July', 'August', 'September', 'October', 'November', 'December'\n",
    "print(month)\n",
    "print()\n",
    "\n",
    "# - Can be nested tuple.\n",
    "monts = (('January', 'February', 'March'), ('April', 'May', 'June'), \\\n",
    "          ('July', 'August', 'September'), ('October', 'November', 'December'))\n",
    "print(monts)\n",
    "\n",
    "\n"
   ]
  },
  {
   "cell_type": "code",
   "execution_count": 31,
   "id": "1ee37f67",
   "metadata": {},
   "outputs": [
    {
     "name": "stdout",
     "output_type": "stream",
     "text": [
      "April\n",
      "('January', 'February')\n"
     ]
    }
   ],
   "source": [
    "#Accessing tuple value\n",
    "months = ('January', 'February', 'March', 'April', 'May', 'June', \\\n",
    "          'July', 'August', 'September', 'October', 'November', 'December')\n",
    "#By Indexing in square brackett\n",
    "print(months[3])\n",
    "#By Slicing\n",
    "print(months[:2])"
   ]
  },
  {
   "cell_type": "code",
   "execution_count": 42,
   "id": "9c1ee04d",
   "metadata": {},
   "outputs": [
    {
     "name": "stdout",
     "output_type": "stream",
     "text": [
      "Alex\n",
      "7\n"
     ]
    }
   ],
   "source": [
    "#Tuple assignment\n",
    "data = (\"Alex\",\"7\")\n",
    "(Name,id) = data\n",
    "print(Name)\n",
    "print(id)"
   ]
  },
  {
   "cell_type": "code",
   "execution_count": 49,
   "id": "e07731f5",
   "metadata": {},
   "outputs": [
    {
     "name": "stdout",
     "output_type": "stream",
     "text": [
      "('a', 'b', 1, 2)\n",
      "('a', 'b', 1, 2, 'a', 'b', 1, 2)\n",
      "False\n"
     ]
    },
    {
     "data": {
      "text/plain": [
       "True"
      ]
     },
     "execution_count": 49,
     "metadata": {},
     "output_type": "execute_result"
    }
   ],
   "source": [
    "\n",
    "#Operation in tuples\n",
    "#1 concatenate\n",
    "tup1=('a','b')\n",
    "tup2=(1,2)\n",
    "tup3=tup1+tup2\n",
    "print(tup3)\n",
    "#repeat\n",
    "print(tup3*2)\n",
    "#in operator\n",
    "print(1 in tup1)\n",
    "1 in tup2"
   ]
  },
  {
   "cell_type": "code",
   "execution_count": null,
   "id": "195ad456",
   "metadata": {},
   "outputs": [],
   "source": [
    "6.1.8 Built-In Tuple Functions\n",
    "Python includes many built-in functions that can be executed on tuples. Some of them are described in Table \n",
    "6.1.\n",
    "TABLE 6.1 Built-in Functions\n",
    "S.No. Function Description\n",
    "1. cmp(tuple1, tuple2)      It compares the items of two tuples.\n",
    "2. len(tuple)               It returns the length of a tuple.\n",
    "3. zip(tuple1, tuple2)      It ‘zips’ elements from two tuples into a list of tuples. Small lenght tuple is maintained.\n",
    "4. max(tuple)               It returns the largest value among the elements in a tuple.\n",
    "5. min(tuple)               It returns the smallest value among the elements in a tuple\n",
    "6. tuple(seq)               It converts a list into a tuple."
   ]
  },
  {
   "cell_type": "markdown",
   "id": "4c88d99b",
   "metadata": {},
   "source": [
    "# 2nd Part DIct."
   ]
  },
  {
   "cell_type": "code",
   "execution_count": 56,
   "id": "8f5f1976",
   "metadata": {},
   "outputs": [
    {
     "name": "stdout",
     "output_type": "stream",
     "text": [
      "{1: 'red', 2: 'yellow', 3: 'green'}\n",
      "yellow\n"
     ]
    },
    {
     "data": {
      "text/plain": [
       "'yellow'"
      ]
     },
     "execution_count": 56,
     "metadata": {},
     "output_type": "execute_result"
    }
   ],
   "source": [
    "# Unordered collection of items or elements.\n",
    "# Dictionaries in Python are mutable i.e, can be changed.b\n",
    "# dictionary has a key: value pair. Each value is associated with a key.\n",
    "# A key and its value are separated by a colon (:) between them.\n",
    "# Key-value key pair is unique and is considered as single element.\n",
    "dict1 = {1:'red',2:'yellow',3:'green'}  #1:'red' is single element\n",
    "print(dict1)\n",
    "# Accessing value from dict.\n",
    "# Method-1\n",
    "print(dict1[2])     #Does not refers Index, but refers key.\n",
    "# Method-2( name.get(key) method)\n",
    "dict1.get(2)\n"
   ]
  },
  {
   "cell_type": "code",
   "execution_count": 58,
   "id": "d95894bb",
   "metadata": {},
   "outputs": [
    {
     "name": "stdout",
     "output_type": "stream",
     "text": [
      "{'name': 'John', 'age': 30}\n",
      "{'name': 'John', 'age': 30, 'address': 'Alaska'}\n"
     ]
    }
   ],
   "source": [
    "dict1 = {'name' : 'John', 'age' : 27}\n",
    "dict1['age'] = 30 # updating a value, since age key is already present, old is updated.\n",
    "print(dict1)\n",
    "dict1['address'] = 'Alaska' # adding a key: value\n",
    "print(dict1)"
   ]
  },
  {
   "cell_type": "code",
   "execution_count": 74,
   "id": "580cbd9a",
   "metadata": {},
   "outputs": [
    {
     "name": "stdout",
     "output_type": "stream",
     "text": [
      "{'name': 'John', 'age': 27, 'address': 'Alaska', 'group': 2}\n",
      "{'name': 'John', 'age': 27, 'group': 2}\n",
      "{'name': 'John', 'age': 27}\n",
      "{}\n"
     ]
    }
   ],
   "source": [
    "# Deleting from a dictory\n",
    "# Method 1\n",
    "dict1 = {'name' : 'John', 'age' : 27, 'address': 'Alaska', 'group':2 }\n",
    "print(dict1)\n",
    "dict1.pop('address')\n",
    "print(dict1)\n",
    "dict1.popitem()       #remove one element randomly\n",
    "print(dict1)\n",
    "dict1.clear()\n",
    "print(dict1)"
   ]
  },
  {
   "cell_type": "code",
   "execution_count": null,
   "id": "a648bbed",
   "metadata": {},
   "outputs": [],
   "source": [
    "# Properties of key in dict.\n",
    "# 1: One key in a dictionary cannot have two values, i.e., duplicate keys are not allowed in the dictionary; \n",
    "#    they must be unique. Whenever duplicate keys are assigned values in a dictionary, the latest value is \n",
    "#    considered and stored whereas the previous one is lost.\n",
    "\n",
    "# 2:  Keys are immutable, i.e., we can use string, integers or tuples for dictionary keys, but something like \n",
    "#     [‘key’] is not valid."
   ]
  },
  {
   "cell_type": "code",
   "execution_count": null,
   "id": "3ae9a409",
   "metadata": {},
   "outputs": [],
   "source": []
  }
 ],
 "metadata": {
  "kernelspec": {
   "display_name": "Python 3 (ipykernel)",
   "language": "python",
   "name": "python3"
  },
  "language_info": {
   "codemirror_mode": {
    "name": "ipython",
    "version": 3
   },
   "file_extension": ".py",
   "mimetype": "text/x-python",
   "name": "python",
   "nbconvert_exporter": "python",
   "pygments_lexer": "ipython3",
   "version": "3.11.4"
  }
 },
 "nbformat": 4,
 "nbformat_minor": 5
}
