{
 "cells": [
  {
   "cell_type": "markdown",
   "id": "a9ceecc0",
   "metadata": {},
   "source": [
    "## List repitition."
   ]
  },
  {
   "cell_type": "code",
   "execution_count": 1,
   "id": "12d41422",
   "metadata": {},
   "outputs": [
    {
     "name": "stdout",
     "output_type": "stream",
     "text": [
      "['This', ' will', ' repeat.', 'This', ' will', ' repeat.', 'This', ' will', ' repeat.', 'This', ' will', ' repeat.', 'This', ' will', ' repeat.']\n"
     ]
    }
   ],
   "source": [
    "list=['This',' will',' repeat.']\n",
    "lis=list*5\n",
    "print(lis)"
   ]
  },
  {
   "cell_type": "markdown",
   "id": "75c7e87a",
   "metadata": {},
   "source": [
    "## List concatenation."
   ]
  },
  {
   "cell_type": "markdown",
   "id": "aff38c90",
   "metadata": {},
   "source": [
    "## Advance slice operator for sublist."
   ]
  },
  {
   "cell_type": "code",
   "execution_count": 24,
   "id": "2fd1bd46",
   "metadata": {},
   "outputs": [
    {
     "name": "stdout",
     "output_type": "stream",
     "text": [
      "30\n"
     ]
    }
   ],
   "source": [
    "l=[[15,30],[16,32],14,44]\n",
    "print(l[0][1])"
   ]
  },
  {
   "cell_type": "markdown",
   "id": "ca174423",
   "metadata": {},
   "source": [
    "## Mutablity in lists."
   ]
  },
  {
   "cell_type": "code",
   "execution_count": 32,
   "id": "61f1c38d",
   "metadata": {},
   "outputs": [
    {
     "name": "stdout",
     "output_type": "stream",
     "text": [
      "['Tirth', 24, 23]\n",
      "True\n"
     ]
    }
   ],
   "source": [
    "students=['Nitin',50,22]\n",
    "students[0]='Tirth'\n",
    "students[1]=24\n",
    "students[2]=23\n",
    "print(students)\n",
    "print('Nitin' not in students)"
   ]
  },
  {
   "cell_type": "markdown",
   "id": "255ab96a",
   "metadata": {},
   "source": [
    "## To check id refrernece while cloneing the lists."
   ]
  },
  {
   "cell_type": "code",
   "execution_count": 36,
   "id": "fd4fbd43",
   "metadata": {},
   "outputs": [
    {
     "name": "stdout",
     "output_type": "stream",
     "text": [
      "2627167933888\n",
      "2627167933888\n",
      "2627167933504\n"
     ]
    }
   ],
   "source": [
    "l1=['Nitin',50,22]\n",
    "l2=l1\n",
    "l3=l1[:]\n",
    "print(id(l1))\n",
    "print(id(l2))\n",
    "print(id(l3))"
   ]
  },
  {
   "cell_type": "markdown",
   "id": "4f329ee9",
   "metadata": {},
   "source": [
    "## To who use of zip functions."
   ]
  },
  {
   "cell_type": "code",
   "execution_count": 54,
   "id": "0841e791",
   "metadata": {},
   "outputs": [
    {
     "name": "stdout",
     "output_type": "stream",
     "text": [
      "[(('Name', 'Rahul', 'Tirth'), ('Age', 20, 22), ('Roll_no', 17, 24))]\n"
     ]
    }
   ],
   "source": [
    "li6=['Name','Age','Roll_no']\n",
    "li7=['Rahul',20,17]\n",
    "li8=['Tirth',22,24]\n",
    "li9=[]\n",
    "li9.append(tuple(zip(li6,li7,li8)))\n",
    "print(li9)"
   ]
  }
 ],
 "metadata": {
  "kernelspec": {
   "display_name": "Python 3 (ipykernel)",
   "language": "python",
   "name": "python3"
  },
  "language_info": {
   "codemirror_mode": {
    "name": "ipython",
    "version": 3
   },
   "file_extension": ".py",
   "mimetype": "text/x-python",
   "name": "python",
   "nbconvert_exporter": "python",
   "pygments_lexer": "ipython3",
   "version": "3.9.7"
  }
 },
 "nbformat": 4,
 "nbformat_minor": 5
}
