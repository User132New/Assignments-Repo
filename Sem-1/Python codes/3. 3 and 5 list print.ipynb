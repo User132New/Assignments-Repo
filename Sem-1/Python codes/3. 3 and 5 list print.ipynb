{
 "cells": [
  {
   "cell_type": "markdown",
   "id": "afd6bdb6",
   "metadata": {},
   "source": [
    "# Program to skip 3 and 5 divisionable number by some string"
   ]
  },
  {
   "cell_type": "code",
   "execution_count": 13,
   "id": "5293716a",
   "metadata": {},
   "outputs": [
    {
     "name": "stdout",
     "output_type": "stream",
     "text": [
      "1\n",
      "2\n",
      "CV\n",
      "4\n",
      "Raman\n",
      "CV\n",
      "7\n",
      "8\n",
      "CV\n",
      "Raman\n",
      "11\n",
      "CV\n",
      "13\n",
      "14\n",
      "CV Raman\n",
      "16\n",
      "17\n",
      "CV\n",
      "19\n",
      "Raman\n",
      "CV\n",
      "22\n",
      "23\n",
      "CV\n",
      "Raman\n",
      "26\n",
      "CV\n",
      "28\n",
      "29\n",
      "CV Raman\n"
     ]
    }
   ],
   "source": [
    "for i in range(1,31):\n",
    "    if((i%3==0)&(i%5==0)):\n",
    "        print('CV Raman')\n",
    "        continue;\n",
    "    elif(i%3==0):\n",
    "        print('CV')\n",
    "        continue;\n",
    "    elif(i%5==0):\n",
    "        print('Raman')\n",
    "        continue;\n",
    "    else:\n",
    "        print(i)"
   ]
  }
 ],
 "metadata": {
  "kernelspec": {
   "display_name": "Python 3 (ipykernel)",
   "language": "python",
   "name": "python3"
  },
  "language_info": {
   "codemirror_mode": {
    "name": "ipython",
    "version": 3
   },
   "file_extension": ".py",
   "mimetype": "text/x-python",
   "name": "python",
   "nbconvert_exporter": "python",
   "pygments_lexer": "ipython3",
   "version": "3.11.4"
  }
 },
 "nbformat": 4,
 "nbformat_minor": 5
}
