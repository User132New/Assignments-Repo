{
 "cells": [
  {
   "cell_type": "markdown",
   "id": "a65a65ca",
   "metadata": {},
   "source": [
    "# To check Palindrome Number:"
   ]
  },
  {
   "cell_type": "code",
   "execution_count": 5,
   "id": "2ef48cf1",
   "metadata": {},
   "outputs": [
    {
     "name": "stdout",
     "output_type": "stream",
     "text": [
      "Please Enter the number to check : 123\n",
      "The Number 123 is not a palindrome\n"
     ]
    }
   ],
   "source": [
    "a=int(input('Please Enter the number to check : '))\n",
    "b=a\n",
    "rev=0\n",
    "while a>0:\n",
    "    r=a%10\n",
    "    rev=rev*10+r\n",
    "    a=a//10\n",
    "if(b==rev):\n",
    "    print(f'The Number {b} is palindrome')\n",
    "else:\n",
    "    print(f'The Number {b} is not a palindrome')"
   ]
  },
  {
   "cell_type": "markdown",
   "id": "0c459321",
   "metadata": {},
   "source": []
  }
 ],
 "metadata": {
  "kernelspec": {
   "display_name": "Python 3 (ipykernel)",
   "language": "python",
   "name": "python3"
  },
  "language_info": {
   "codemirror_mode": {
    "name": "ipython",
    "version": 3
   },
   "file_extension": ".py",
   "mimetype": "text/x-python",
   "name": "python",
   "nbconvert_exporter": "python",
   "pygments_lexer": "ipython3",
   "version": "3.11.4"
  }
 },
 "nbformat": 4,
 "nbformat_minor": 5
}
